{
 "cells": [
  {
   "cell_type": "code",
   "execution_count": 15,
   "metadata": {},
   "outputs": [],
   "source": [
    "from z3 import *\n",
    "\n",
    "def check(f1, f2, f3):\n",
    "    def __check(f):\n",
    "        s = Solver()\n",
    "        s.add(Not(f))\n",
    "        res = s.check()\n",
    "        print(res)\n",
    "        if res == sat:\n",
    "            print(s.model())\n",
    "    \n",
    "    __check(f1)\n",
    "    __check(f2)\n",
    "    __check(f3)\n"
   ]
  },
  {
   "cell_type": "code",
   "execution_count": null,
   "metadata": {},
   "outputs": [],
   "source": [
    "#   loop-zilu/benchmark16_conjunctive.c\n",
    "#   if (!(0 <= k && k <= 1 && i == 1)) return 0;\n",
    "#   while (__VERIFIER_nondet_bool()) {\n",
    "#     i = i + 1;\n",
    "#     k = k - 1;\n",
    "#   }\n",
    "#   __VERIFIER_assert(1 <= i + k && i + k <= 2 && i >= 1);\n",
    "\n",
    "i = Int('i')\n",
    "k = Int('k')\n",
    "\n"
   ]
  },
  {
   "cell_type": "code",
   "execution_count": 40,
   "metadata": {},
   "outputs": [
    {
     "name": "stdout",
     "output_type": "stream",
     "text": [
      "unsat\n",
      "unsat\n",
      "unsat\n"
     ]
    }
   ],
   "source": [
    "# loop-zilu/benchmark18_conjunctive.c\n",
    "#   if (!((i==0) && (k==0) && (n>0))) return 0;\n",
    "#   while (i < n) {\n",
    "#     i++;k++;\n",
    "  # }\n",
    "  # __VERIFIER_assert((i == k) && (k == n));\n",
    "    \n",
    "i = Int('i')\n",
    "k = Int('k')\n",
    "n = Int('n')\n",
    "ip = Int('ip')\n",
    "kp = Int('kp')\n",
    "\n",
    "P = And(i==0, k==0, n>0)\n",
    "B = i < n\n",
    "Q = And(i==k, k==n)\n",
    "T = And(ip==i+1, kp==k+1)\n",
    "I = lambda i, k: And(i==k, i<=n)\n",
    "\n",
    "F1 = Implies(P, I(i, k))\n",
    "F2 = Implies(And(I(i,k), B, T), I(ip, kp))\n",
    "F3 = Implies(And(I(i,k), Not(B)), Q)\n",
    "\n",
    "check(F1, F2, F3)"
   ]
  },
  {
   "cell_type": "code",
   "execution_count": 41,
   "metadata": {},
   "outputs": [
    {
     "name": "stdout",
     "output_type": "stream",
     "text": [
      "unsat\n",
      "unsat\n",
      "unsat\n"
     ]
    }
   ],
   "source": [
    "# loop-lit/afnp2014.c\n",
    "# int x = 1;\n",
    "# int y = 0;\n",
    "# while (y < 1000 && __VERIFIER_nondet_int()) {\n",
    "#     x = x + y;\n",
    "#     y = y + 1;\n",
    "# }\n",
    "# __VERIFIER_assert(x >= y);\n",
    "\n",
    "x = Int('x')\n",
    "y = Int('y')\n",
    "xp = Int('xp')\n",
    "yp = Int('yp')\n",
    "\n",
    "P = And(x == 1, y == 0)\n",
    "B = And(y < 1000, Bool('nondet'))\n",
    "Q = x >= y\n",
    "T = And(xp == x + y, yp == y + 1)\n",
    "I = lambda x, y: And(x >= y, x >= 1, y >= 0)\n",
    "\n",
    "F1 = Implies(P, I(x, y))\n",
    "F2 = Implies(And(I(x, y), B, T), I(xp, yp))\n",
    "F3 = Implies(And(I(x, y), Not(B)), Q)\n",
    "\n",
    "check(F1, F2, F3)"
   ]
  },
  {
   "cell_type": "code",
   "execution_count": 33,
   "metadata": {},
   "outputs": [
    {
     "name": "stdout",
     "output_type": "stream",
     "text": [
      "unsat\n",
      "unsat\n",
      "unsat\n"
     ]
    }
   ],
   "source": [
    "# loop-lit/gsv2008.c\n",
    "    # int x = -50;\n",
    "    # if (!(-1000 < y && y < LARGE_INT)) return 0;\n",
    "    # while (x < 0) {\n",
    "\t# x = x + y;\n",
    "\t# y++;\n",
    "    # }\n",
    "    # __VERIFIER_assert(y > 0);\n",
    "\n",
    "x = Int('x')\n",
    "y = Int('y')\n",
    "xp = Int('xp')\n",
    "yp = Int('yp')\n",
    "\n",
    "P = And(x == -50, -10000 < y, y < 1000000)\n",
    "B = x < 0\n",
    "Q = y > 0\n",
    "T = And(xp == x + y, yp == y + 1)\n",
    "I = lambda x, y: Or(y > 0, x < 0)\n",
    "\n",
    "F1 = Implies(P, I(x, y))\n",
    "F2 = Implies(And(I(x, y), B, T), I(xp, yp)) # (y>0 or x<0) and x<0 and x'=x+y and y'=y+1 -> y+1>0 or x+y<0\n",
    "F3 = Implies(And(I(x, y), Not(B)), Q)\n",
    "\n",
    "check(F1, F2, F3)"
   ]
  },
  {
   "cell_type": "code",
   "execution_count": 19,
   "metadata": {},
   "outputs": [
    {
     "name": "stdout",
     "output_type": "stream",
     "text": [
      "unsat\n",
      "unsat\n",
      "unsat\n"
     ]
    }
   ],
   "source": [
    "# loop-lit/cggmp2005.c\n",
    "#     i = 1;\n",
    "#     j = 10;\n",
    "#     while (j >= i) {\n",
    "#         i = i + 2;\n",
    "#         j = -1 + j;\n",
    "#     }\n",
    "#     __VERIFIER_assert(j == 6);\n",
    "\n",
    "i = Int('i')\n",
    "j = Int('j')\n",
    "ip = Int('ip')\n",
    "jp = Int('jp')\n",
    "\t# (i<=j)\n",
    "\t# (i+2*j==21)\n",
    "P = And(i==1, j == 10)\n",
    "B = j >= i\n",
    "Q = j == 6\n",
    "T = And(ip == i + 2, jp == j - 1)\n",
    "I = lambda i, j: And(i+2*j==21, j>=6)\n",
    "\n",
    "F1 = Implies(P, I(i,j))\n",
    "F2 = Implies(And(I(i,j), B, T), I(ip,jp))\n",
    "F3 = Implies(And(I(i,j), Not(B)), Q)\n",
    "\n",
    "check(F1, F2, F3)"
   ]
  },
  {
   "cell_type": "code",
   "execution_count": 17,
   "metadata": {},
   "outputs": [
    {
     "name": "stdout",
     "output_type": "stream",
     "text": [
      "unsat\n",
      "unsat\n",
      "unsat\n"
     ]
    }
   ],
   "source": [
    "# loop-lit/hhk2008.c\n",
    "#     if (!(a <= 1000000)) return 0;\n",
    "#     if (!(0 <= b && b <= 1000000)) return 0;\n",
    "#     res = a;\n",
    "#     cnt = b;\n",
    "#     while (cnt > 0) {\n",
    "# \t    cnt = cnt - 1;\n",
    "# \t    res = res + 1;\n",
    "#     }\n",
    "#     __VERIFIER_assert(res == a + b);\n",
    "\n",
    "a = Int('a')\n",
    "b = Int('b')\n",
    "res = Int('res')\n",
    "cnt = Int('cnt')\n",
    "resp = Int('resp')\n",
    "cntp = Int('cntp')\n",
    "\n",
    "P = And(a <= 1000000, 0 <= b, b <= 1000000, res == a, cnt == b)\n",
    "Q = res == a+b\n",
    "B = cnt > 0\n",
    "T = And(cntp == cnt-1, resp == res+1)\n",
    "I = lambda cnt, res: And(res +cnt== a+b, cnt>=0)\n",
    "\n",
    "F1 = Implies(P, I(cnt, res))\n",
    "F2 = Implies(And(I(cnt, res), B, T), I(cntp, resp))\n",
    "F3 = Implies(And(I(cnt, res), Not(B)), Q)\n",
    "\n",
    "check(F1, F2, F3)"
   ]
  },
  {
   "cell_type": "code",
   "execution_count": 10,
   "metadata": {},
   "outputs": [
    {
     "name": "stdout",
     "output_type": "stream",
     "text": [
      "unsat\n",
      "unsat\n",
      "unsat\n"
     ]
    }
   ],
   "source": [
    "# loop-lit/jm2006_variant.c\n",
    "# if (!(i >= 0 && i <= LARGE_INT)) return 0;\n",
    "# if (!(j >= 0)) return 0;\n",
    "# int x = i;\n",
    "# int y = j;\n",
    "# int z = 0;\n",
    "# while(x != 0) {\n",
    "#     x --;\n",
    "#     y -= 2;\n",
    "#     z ++;\n",
    "# }\n",
    "# if (i == j) {\n",
    "#     __VERIFIER_assert(y == -z);\n",
    "# }\n",
    "\n",
    "i = Int('i')\n",
    "j = Int('j')\n",
    "x = Int('x')\n",
    "y = Int('y')\n",
    "z = Int('z')\n",
    "xp = Int('xp')\n",
    "yp = Int('yp')\n",
    "zp = Int('zp')\n",
    "\n",
    "P = And(i >= 0, i <= 100, j >= 0, x == i, y == j, z == 0)\n",
    "B = x != 0\n",
    "Q = Implies(i == j, y == -z)\n",
    "T = And(xp == x - 1, yp == y - 2, zp == z + 1)\n",
    "I = lambda x, y, z: And(y + z == j - (x - i))\n",
    "\n",
    "\n",
    "F1 = Implies(P, I(x,y,z))\n",
    "F2 = Implies(And(I(x,y,z), B, T), I(xp,yp,zp)) \n",
    "F3 = Implies(And(I(x,y,z), Not(B)), Q)\n",
    "\n",
    "check(F1, F2, F3)"
   ]
  },
  {
   "cell_type": "code",
   "execution_count": 7,
   "metadata": {},
   "outputs": [
    {
     "name": "stdout",
     "output_type": "stream",
     "text": [
      "unsat\n",
      "unsat\n",
      "unsat\n"
     ]
    }
   ],
   "source": [
    "# loop-lit/jm2006.c\n",
    "    # if (!(i >= 0 && j >= 0)) return 0;\n",
    "    # int x = i;\n",
    "    # int y = j;\n",
    "    # while(x != 0) {\n",
    "    #     x--;\n",
    "    #     y--;\n",
    "    # }\n",
    "\n",
    "    # if (i == j) {\n",
    "    #     __VERIFIER_assert(y == 0);\n",
    "    # }\n",
    "\n",
    "x = Int('x')\n",
    "y = Int('y')\n",
    "i = Int('i')\n",
    "j = Int('j')\n",
    "xp = Int('xp')\n",
    "yp = Int('yp')\n",
    "\n",
    "P = And(i >= 0, j >= 0, x == i, y == j)\n",
    "T = And(xp == x - 1, yp == y - 1)\n",
    "Q = Implies(i == j, y == 0)\n",
    "B = x != 0\n",
    "I = lambda x, y, i, j: And(i - x == j - y)\n",
    "\n",
    "F1 = Implies(P, I(x,y,i,j))\n",
    "F2 = Implies(And(I(x,y,i,j), B, T), I(xp,yp,i,j)) \n",
    "F3 = Implies(And(I(x,y,i,j), Not(B)), Q)\n",
    "\n",
    "check(F1, F2, F3)"
   ]
  },
  {
   "cell_type": "code",
   "execution_count": 11,
   "metadata": {},
   "outputs": [
    {
     "name": "stdout",
     "output_type": "stream",
     "text": [
      "unsat\n",
      "unsat\n",
      "unsat\n"
     ]
    }
   ],
   "source": [
    "# loop-zilu/benchmark24_conjunctive.c\n",
    "#   if (!(i==0 && k==n && n>=0)) return 0;\n",
    "#   while (i<n) {\n",
    "#     k--;\n",
    "#     i+=2;\n",
    "#   }\n",
    "#   __VERIFIER_assert(2*k>=n-1);\n",
    "\n",
    "i = Int('i')\n",
    "k = Int('k')\n",
    "n = Int('n')\n",
    "ip = Int('ip')\n",
    "kp = Int('kp')\n",
    "\n",
    "P = And(i==0, k==n, n>=0)\n",
    "Q = And(2*k>=n-1)\n",
    "B = And(i<n)\n",
    "T = And(ip == i+2, kp == k-1)\n",
    "I = lambda i, k, n: And( 2*n <= i + 2*k, i<=2+2*k)\n",
    "# I = lambda i, k, n: And( 2*n <= i + 2*k, i-n<=1)\n",
    "# I = lambda i, k, n: And( 2*n <= i + 2*k, 2 * (i - k) <= 4 + n)\n",
    "\n",
    "F1 = Implies(P, I(i, k, n))\n",
    "F2 = Implies(And(I(i, k, n), B, T), I(ip, kp, n)) \n",
    "F3 = Implies(And(I(i, k, n), Not(B)), Q)\n",
    "\n",
    "check(F1, F2, F3)"
   ]
  },
  {
   "cell_type": "code",
   "execution_count": 14,
   "metadata": {},
   "outputs": [
    {
     "name": "stdout",
     "output_type": "stream",
     "text": [
      "unsat\n"
     ]
    }
   ],
   "source": [
    "# loop-zilu/benchmark22_conjunctive.c\n",
    "x = Int('x')\n",
    "y = Int('y')\n",
    "xp = Int('xp')\n",
    "yp = Int('yp')\n",
    "\n",
    "I = lambda x, y: And(x >= y, x >= 1, y >= 0)\n",
    "T = And(xp == x + y, yp == y + 1)\n",
    "F = Implies(And(I(x ,y), T), I(xp, yp))\n",
    "\n",
    "s = Solver()\n",
    "s.add(Not(F))   \n",
    "print(s.check())\n",
    "# s.model()"
   ]
  },
  {
   "cell_type": "code",
   "execution_count": 6,
   "metadata": {},
   "outputs": [
    {
     "data": {
      "text/html": [
       "<b>unsat</b>"
      ],
      "text/plain": [
       "unsat"
      ]
     },
     "execution_count": 6,
     "metadata": {},
     "output_type": "execute_result"
    }
   ],
   "source": [
    "x0 = Int('x0')\n",
    "x1 = Int('x1')\n",
    "x2 = Int('x2')\n",
    "\n",
    "bound = And(x0 >= -1000000, x0 <= 1000000, x1 >= -1000000, x1 <= 1000000, x2 >= -1000000, x2 <= 1000000)\n",
    "\n",
    "P = And(Not(x2 <= x0 + x1), bound)\n",
    "\n",
    "I = And(x0 + x1 <= x2 - 1, bound)\n",
    "\n",
    "s = Solver()\n",
    "s.add(Not(Implies(P, I)))\n",
    "s.check()"
   ]
  },
  {
   "cell_type": "code",
   "execution_count": 4,
   "metadata": {},
   "outputs": [],
   "source": [
    "j = Int(\"j\")\n",
    "k = Int(\"k\")\n",
    "n = Int(\"n\")\n",
    "jp = Int(\"jp\")\n",
    "kp = Int(\"kp\")\n",
    "\n",
    "P = And(j == 0, k == n, n > 0)\n",
    "B = And(j < n, n > 0)\n",
    "Q = k == 0\n",
    "T = lambda j, k, jp, kp: And(jp==j + 1, kp==k - 1)"
   ]
  },
  {
   "cell_type": "code",
   "execution_count": 5,
   "metadata": {},
   "outputs": [],
   "source": [
    "# I = lambda j,k,n: And(j+k==n, j<=n, n > 0)\n",
    "I = lambda j,k,n: And(2*j+n>=1, j+k>=n, j+k<=n, j<=2*k+n)"
   ]
  },
  {
   "cell_type": "code",
   "execution_count": 6,
   "metadata": {},
   "outputs": [
    {
     "name": "stdout",
     "output_type": "stream",
     "text": [
      "unsat\n",
      "unsat\n",
      "unsat\n"
     ]
    }
   ],
   "source": [
    "solver = Solver()\n",
    "solver.add(Not(Implies(P, I(j, k, n))))\n",
    "print(solver.check())\n",
    "\n",
    "solver = Solver()\n",
    "solver.add(Not(Implies(And(B, I(j, k, n), T(j, k, jp, kp)), I(jp, kp, n))))\n",
    "print(solver.check())\n",
    "\n",
    "solver = Solver()\n",
    "solver.add(Not(Implies(And(Not(B), I(j, k, n)), Q)))\n",
    "print(solver.check())"
   ]
  },
  {
   "attachments": {},
   "cell_type": "markdown",
   "metadata": {},
   "source": [
    "# /loop-zilu/benchmark23_conjunctive.c"
   ]
  },
  {
   "cell_type": "code",
   "execution_count": 7,
   "metadata": {},
   "outputs": [],
   "source": [
    "i = Int(\"i\")\n",
    "j = Int(\"j\")\n",
    "ip = Int(\"jp\")\n",
    "jp = Int(\"kp\")\n",
    "\n",
    "P = And(j == 0, i == 0)\n",
    "B = And(i < 100)\n",
    "Q = j == 200\n",
    "T = lambda i, j, ip, jp: And(jp==j + 2, ip==i + 1)"
   ]
  },
  {
   "cell_type": "code",
   "execution_count": 16,
   "metadata": {},
   "outputs": [],
   "source": [
    "I = lambda i, j: And(j==2*i, i<=100)"
   ]
  },
  {
   "cell_type": "code",
   "execution_count": 17,
   "metadata": {},
   "outputs": [
    {
     "name": "stdout",
     "output_type": "stream",
     "text": [
      "unsat\n",
      "unsat\n",
      "unsat\n"
     ]
    }
   ],
   "source": [
    "solver = Solver()\n",
    "solver.add(Not(Implies(P, I(i, j))))\n",
    "print(solver.check())\n",
    "\n",
    "solver = Solver()\n",
    "solver.add(Not(Implies(And(B, I(i, j), T(i, j, ip, jp)), I(ip, jp))))\n",
    "print(solver.check())\n",
    "\n",
    "solver = Solver()\n",
    "solver.add(Not(Implies(And(Not(B), I(i, j)), Q)))\n",
    "print(solver.check())"
   ]
  },
  {
   "attachments": {},
   "cell_type": "markdown",
   "metadata": {},
   "source": [
    "# /loop-zilu/benchmark19_conjunctive.c"
   ]
  },
  {
   "cell_type": "code",
   "execution_count": 18,
   "metadata": {},
   "outputs": [],
   "source": [
    "j = Int(\"j\")\n",
    "k = Int(\"k\")\n",
    "n = Int(\"n\")\n",
    "jp = Int(\"jp\")\n",
    "kp = Int(\"kp\")\n",
    "\n",
    "P = And(j == n, k == n, n > 0)\n",
    "B = And(j > 0, n > 0)\n",
    "Q = k == 0\n",
    "T = lambda j, k, jp, kp: And(jp==j - 1, kp==k - 1)"
   ]
  },
  {
   "cell_type": "code",
   "execution_count": 21,
   "metadata": {},
   "outputs": [],
   "source": [
    "I = lambda j,k,n: And(j==k, j           >=0, n > 0)"
   ]
  },
  {
   "cell_type": "code",
   "execution_count": 22,
   "metadata": {},
   "outputs": [
    {
     "name": "stdout",
     "output_type": "stream",
     "text": [
      "unsat\n",
      "unsat\n",
      "unsat\n"
     ]
    }
   ],
   "source": [
    "solver = Solver()\n",
    "solver.add(Not(Implies(P, I(j, k, n))))\n",
    "print(solver.check())\n",
    "\n",
    "solver = Solver()\n",
    "solver.add(Not(Implies(And(B, I(j, k, n), T(j, k, jp, kp)), I(jp, kp, n))))\n",
    "print(solver.check())\n",
    "\n",
    "solver = Solver()\n",
    "solver.add(Not(Implies(And(Not(B), I(j, k, n)), Q)))\n",
    "print(solver.check())"
   ]
  },
  {
   "attachments": {},
   "cell_type": "markdown",
   "metadata": {},
   "source": [
    "# /loop-zilu/benchmark03_linear.c"
   ]
  },
  {
   "cell_type": "code",
   "execution_count": null,
   "metadata": {},
   "outputs": [],
   "source": [
    "x = Int(\"x\")\n",
    "y = Int(\"y\")\n",
    "i = Int(\"i\")\n",
    "j = Int(\"j\")\n",
    "xp = Int(\"xp\")\n",
    "yp = Int(\"yp\")\n",
    "ip = Int(\"ip\")\n",
    "jp = Int(\"jp\")\n",
    "\n",
    "P = And(i == 0, j == 0, x ==0, y == 0)\n",
    "B = True \n",
    "Q = k == 0\n",
    "T = lambda x, y, i, j, xp, yp, ip, jp: And(xp==x+1, yp==y+1, ip==xp+i, jp==yp+j)"
   ]
  },
  {
   "cell_type": "code",
   "execution_count": null,
   "metadata": {},
   "outputs": [],
   "source": [
    "I = lambda j,k,n: And(j==k, j           >=0, n > 0)"
   ]
  },
  {
   "cell_type": "code",
   "execution_count": null,
   "metadata": {},
   "outputs": [
    {
     "name": "stdout",
     "output_type": "stream",
     "text": [
      "unsat\n",
      "unsat\n",
      "unsat\n"
     ]
    }
   ],
   "source": [
    "solver = Solver()\n",
    "solver.add(Not(Implies(P, I(j, k, n))))\n",
    "print(solver.check())\n",
    "\n",
    "solver = Solver()\n",
    "solver.add(Not(Implies(And(B, I(j, k, n), T(j, k, jp, kp)), I(jp, kp, n))))\n",
    "print(solver.check())\n",
    "\n",
    "solver = Solver()\n",
    "solver.add(Not(Implies(And(Not(B), I(j, k, n)), Q)))\n",
    "print(solver.check())"
   ]
  },
  {
   "cell_type": "code",
   "execution_count": null,
   "metadata": {},
   "outputs": [],
   "source": []
  }
 ],
 "metadata": {
  "kernelspec": {
   "display_name": "Python 3",
   "language": "python",
   "name": "python3"
  },
  "language_info": {
   "codemirror_mode": {
    "name": "ipython",
    "version": 3
   },
   "file_extension": ".py",
   "mimetype": "text/x-python",
   "name": "python",
   "nbconvert_exporter": "python",
   "pygments_lexer": "ipython3",
   "version": "3.10.6"
  },
  "orig_nbformat": 4
 },
 "nbformat": 4,
 "nbformat_minor": 2
}
