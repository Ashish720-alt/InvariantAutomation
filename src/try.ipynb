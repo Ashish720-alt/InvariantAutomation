{
 "cells": [
  {
   "cell_type": "code",
   "execution_count": 2,
   "metadata": {},
   "outputs": [],
   "source": [
    "from z3 import *"
   ]
  },
  {
   "cell_type": "code",
   "execution_count": 4,
   "metadata": {},
   "outputs": [],
   "source": [
    "j = Int(\"j\")\n",
    "k = Int(\"k\")\n",
    "n = Int(\"n\")\n",
    "jp = Int(\"jp\")\n",
    "kp = Int(\"kp\")\n",
    "\n",
    "P = And(j == 0, k == n, n > 0)\n",
    "B = And(j < n, n > 0)\n",
    "Q = k == 0\n",
    "T = lambda j, k, jp, kp: And(jp==j + 1, kp==k - 1)"
   ]
  },
  {
   "cell_type": "code",
   "execution_count": 5,
   "metadata": {},
   "outputs": [],
   "source": [
    "# I = lambda j,k,n: And(j+k==n, j<=n, n > 0)\n",
    "I = lambda j,k,n: And(2*j+n>=1, j+k>=n, j+k<=n, j<=2*k+n)"
   ]
  },
  {
   "cell_type": "code",
   "execution_count": 6,
   "metadata": {},
   "outputs": [
    {
     "name": "stdout",
     "output_type": "stream",
     "text": [
      "unsat\n",
      "unsat\n",
      "unsat\n"
     ]
    }
   ],
   "source": [
    "solver = Solver()\n",
    "solver.add(Not(Implies(P, I(j, k, n))))\n",
    "print(solver.check())\n",
    "\n",
    "solver = Solver()\n",
    "solver.add(Not(Implies(And(B, I(j, k, n), T(j, k, jp, kp)), I(jp, kp, n))))\n",
    "print(solver.check())\n",
    "\n",
    "solver = Solver()\n",
    "solver.add(Not(Implies(And(Not(B), I(j, k, n)), Q)))\n",
    "print(solver.check())"
   ]
  },
  {
   "attachments": {},
   "cell_type": "markdown",
   "metadata": {},
   "source": [
    "# /loop-zilu/benchmark23_conjunctive.c"
   ]
  },
  {
   "cell_type": "code",
   "execution_count": 7,
   "metadata": {},
   "outputs": [],
   "source": [
    "i = Int(\"i\")\n",
    "j = Int(\"j\")\n",
    "ip = Int(\"jp\")\n",
    "jp = Int(\"kp\")\n",
    "\n",
    "P = And(j == 0, i == 0)\n",
    "B = And(i < 100)\n",
    "Q = j == 200\n",
    "T = lambda i, j, ip, jp: And(jp==j + 2, ip==i + 1)"
   ]
  },
  {
   "cell_type": "code",
   "execution_count": 16,
   "metadata": {},
   "outputs": [],
   "source": [
    "I = lambda i, j: And(j==2*i, i<=100)"
   ]
  },
  {
   "cell_type": "code",
   "execution_count": 17,
   "metadata": {},
   "outputs": [
    {
     "name": "stdout",
     "output_type": "stream",
     "text": [
      "unsat\n",
      "unsat\n",
      "unsat\n"
     ]
    }
   ],
   "source": [
    "solver = Solver()\n",
    "solver.add(Not(Implies(P, I(i, j))))\n",
    "print(solver.check())\n",
    "\n",
    "solver = Solver()\n",
    "solver.add(Not(Implies(And(B, I(i, j), T(i, j, ip, jp)), I(ip, jp))))\n",
    "print(solver.check())\n",
    "\n",
    "solver = Solver()\n",
    "solver.add(Not(Implies(And(Not(B), I(i, j)), Q)))\n",
    "print(solver.check())"
   ]
  },
  {
   "attachments": {},
   "cell_type": "markdown",
   "metadata": {},
   "source": [
    "# /loop-zilu/benchmark19_conjunctive.c"
   ]
  },
  {
   "cell_type": "code",
   "execution_count": 18,
   "metadata": {},
   "outputs": [],
   "source": [
    "j = Int(\"j\")\n",
    "k = Int(\"k\")\n",
    "n = Int(\"n\")\n",
    "jp = Int(\"jp\")\n",
    "kp = Int(\"kp\")\n",
    "\n",
    "P = And(j == n, k == n, n > 0)\n",
    "B = And(j > 0, n > 0)\n",
    "Q = k == 0\n",
    "T = lambda j, k, jp, kp: And(jp==j - 1, kp==k - 1)"
   ]
  },
  {
   "cell_type": "code",
   "execution_count": 21,
   "metadata": {},
   "outputs": [],
   "source": [
    "I = lambda j,k,n: And(j==k, j           >=0, n > 0)"
   ]
  },
  {
   "cell_type": "code",
   "execution_count": 22,
   "metadata": {},
   "outputs": [
    {
     "name": "stdout",
     "output_type": "stream",
     "text": [
      "unsat\n",
      "unsat\n",
      "unsat\n"
     ]
    }
   ],
   "source": [
    "solver = Solver()\n",
    "solver.add(Not(Implies(P, I(j, k, n))))\n",
    "print(solver.check())\n",
    "\n",
    "solver = Solver()\n",
    "solver.add(Not(Implies(And(B, I(j, k, n), T(j, k, jp, kp)), I(jp, kp, n))))\n",
    "print(solver.check())\n",
    "\n",
    "solver = Solver()\n",
    "solver.add(Not(Implies(And(Not(B), I(j, k, n)), Q)))\n",
    "print(solver.check())"
   ]
  },
  {
   "attachments": {},
   "cell_type": "markdown",
   "metadata": {},
   "source": [
    "# /loop-zilu/benchmark03_linear.c"
   ]
  },
  {
   "cell_type": "code",
   "execution_count": null,
   "metadata": {},
   "outputs": [],
   "source": [
    "x = Int(\"x\")\n",
    "y = Int(\"y\")\n",
    "i = Int(\"i\")\n",
    "j = Int(\"j\")\n",
    "xp = Int(\"xp\")\n",
    "yp = Int(\"yp\")\n",
    "ip = Int(\"ip\")\n",
    "jp = Int(\"jp\")\n",
    "\n",
    "P = And(i == 0, j == 0, x ==0, y == 0)\n",
    "B = True \n",
    "Q = k == 0\n",
    "T = lambda x, y, i, j, xp, yp, ip, jp: And(xp==x+1, yp==y+1, ip==xp+i, jp==yp+j)"
   ]
  },
  {
   "cell_type": "code",
   "execution_count": null,
   "metadata": {},
   "outputs": [],
   "source": [
    "I = lambda j,k,n: And(j==k, j           >=0, n > 0)"
   ]
  },
  {
   "cell_type": "code",
   "execution_count": null,
   "metadata": {},
   "outputs": [
    {
     "name": "stdout",
     "output_type": "stream",
     "text": [
      "unsat\n",
      "unsat\n",
      "unsat\n"
     ]
    }
   ],
   "source": [
    "solver = Solver()\n",
    "solver.add(Not(Implies(P, I(j, k, n))))\n",
    "print(solver.check())\n",
    "\n",
    "solver = Solver()\n",
    "solver.add(Not(Implies(And(B, I(j, k, n), T(j, k, jp, kp)), I(jp, kp, n))))\n",
    "print(solver.check())\n",
    "\n",
    "solver = Solver()\n",
    "solver.add(Not(Implies(And(Not(B), I(j, k, n)), Q)))\n",
    "print(solver.check())"
   ]
  },
  {
   "cell_type": "code",
   "execution_count": null,
   "metadata": {},
   "outputs": [],
   "source": []
  }
 ],
 "metadata": {
  "kernelspec": {
   "display_name": "Python 3",
   "language": "python",
   "name": "python3"
  },
  "language_info": {
   "codemirror_mode": {
    "name": "ipython",
    "version": 3
   },
   "file_extension": ".py",
   "mimetype": "text/x-python",
   "name": "python",
   "nbconvert_exporter": "python",
   "pygments_lexer": "ipython3",
   "version": "3.10.6"
  },
  "orig_nbformat": 4
 },
 "nbformat": 4,
 "nbformat_minor": 2
}
