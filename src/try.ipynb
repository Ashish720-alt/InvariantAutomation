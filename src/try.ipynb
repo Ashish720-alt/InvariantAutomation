{
 "cells": [
  {
   "cell_type": "code",
   "execution_count": 2,
   "metadata": {},
   "outputs": [],
   "source": [
    "from z3 import *"
   ]
  },
  {
   "cell_type": "code",
   "execution_count": 7,
   "metadata": {},
   "outputs": [
    {
     "name": "stdout",
     "output_type": "stream",
     "text": [
      "unsat\n",
      "unsat\n",
      "unsat\n"
     ]
    }
   ],
   "source": [
    "# loop-zilu/benchmark24_conjunctive.c\n",
    "#   if (!(i==0 && k==n && n>=0)) return 0;\n",
    "#   while (i<n) {\n",
    "#     k--;\n",
    "#     i+=2;\n",
    "#   }\n",
    "#   __VERIFIER_assert(2*k>=n-1);\n",
    "\n",
    "i = Int('i')\n",
    "k = Int('k')\n",
    "n = Int('n')\n",
    "ip = Int('ip')\n",
    "kp = Int('kp')\n",
    "\n",
    "P = And(i==0, k==n, n>=0)\n",
    "Q = And(2*k>=n-1)\n",
    "B = And(i<n)\n",
    "T = And(ip == i+2, kp == k-1)\n",
    "I = lambda i, k, n: And( 2*n <= i + 2*k, 2 * (i - k) <= 4 + n)\n",
    "\n",
    "F1 = Implies(P, I(i, k, n))\n",
    "F2 = Implies(And(I(i, k, n), B, T), I(ip, kp, n)) \n",
    "F3 = Implies(And(I(i, k, n), Not(B)), Q)\n",
    "\n",
    "s = Solver()\n",
    "s.add(Not(F1))\n",
    "print(s.check())\n",
    "\n",
    "s = Solver()\n",
    "s.add(Not(F2))\n",
    "print(s.check())\n",
    "# print(s.model())\n",
    "\n",
    "s = Solver()\n",
    "s.add(Not(F3))\n",
    "print(s.check())\n",
    "\n",
    "# s.model()"
   ]
  },
  {
   "cell_type": "code",
   "execution_count": 14,
   "metadata": {},
   "outputs": [
    {
     "name": "stdout",
     "output_type": "stream",
     "text": [
      "unsat\n"
     ]
    }
   ],
   "source": [
    "# loop-zilu/benchmark22_conjunctive.c\n",
    "x = Int('x')\n",
    "y = Int('y')\n",
    "xp = Int('xp')\n",
    "yp = Int('yp')\n",
    "\n",
    "I = lambda x, y: And(x >= y, x >= 1, y >= 0)\n",
    "T = And(xp == x + y, yp == y + 1)\n",
    "F = Implies(And(I(x ,y), T), I(xp, yp))\n",
    "\n",
    "s = Solver()\n",
    "s.add(Not(F))   \n",
    "print(s.check())\n",
    "# s.model()"
   ]
  },
  {
   "cell_type": "code",
   "execution_count": 6,
   "metadata": {},
   "outputs": [
    {
     "data": {
      "text/html": [
       "<b>unsat</b>"
      ],
      "text/plain": [
       "unsat"
      ]
     },
     "execution_count": 6,
     "metadata": {},
     "output_type": "execute_result"
    }
   ],
   "source": [
    "x0 = Int('x0')\n",
    "x1 = Int('x1')\n",
    "x2 = Int('x2')\n",
    "\n",
    "bound = And(x0 >= -1000000, x0 <= 1000000, x1 >= -1000000, x1 <= 1000000, x2 >= -1000000, x2 <= 1000000)\n",
    "\n",
    "P = And(Not(x2 <= x0 + x1), bound)\n",
    "\n",
    "I = And(x0 + x1 <= x2 - 1, bound)\n",
    "\n",
    "s = Solver()\n",
    "s.add(Not(Implies(P, I)))\n",
    "s.check()"
   ]
  },
  {
   "cell_type": "code",
   "execution_count": 4,
   "metadata": {},
   "outputs": [],
   "source": [
    "j = Int(\"j\")\n",
    "k = Int(\"k\")\n",
    "n = Int(\"n\")\n",
    "jp = Int(\"jp\")\n",
    "kp = Int(\"kp\")\n",
    "\n",
    "P = And(j == 0, k == n, n > 0)\n",
    "B = And(j < n, n > 0)\n",
    "Q = k == 0\n",
    "T = lambda j, k, jp, kp: And(jp==j + 1, kp==k - 1)"
   ]
  },
  {
   "cell_type": "code",
   "execution_count": 5,
   "metadata": {},
   "outputs": [],
   "source": [
    "# I = lambda j,k,n: And(j+k==n, j<=n, n > 0)\n",
    "I = lambda j,k,n: And(2*j+n>=1, j+k>=n, j+k<=n, j<=2*k+n)"
   ]
  },
  {
   "cell_type": "code",
   "execution_count": 6,
   "metadata": {},
   "outputs": [
    {
     "name": "stdout",
     "output_type": "stream",
     "text": [
      "unsat\n",
      "unsat\n",
      "unsat\n"
     ]
    }
   ],
   "source": [
    "solver = Solver()\n",
    "solver.add(Not(Implies(P, I(j, k, n))))\n",
    "print(solver.check())\n",
    "\n",
    "solver = Solver()\n",
    "solver.add(Not(Implies(And(B, I(j, k, n), T(j, k, jp, kp)), I(jp, kp, n))))\n",
    "print(solver.check())\n",
    "\n",
    "solver = Solver()\n",
    "solver.add(Not(Implies(And(Not(B), I(j, k, n)), Q)))\n",
    "print(solver.check())"
   ]
  },
  {
   "attachments": {},
   "cell_type": "markdown",
   "metadata": {},
   "source": [
    "# /loop-zilu/benchmark23_conjunctive.c"
   ]
  },
  {
   "cell_type": "code",
   "execution_count": 7,
   "metadata": {},
   "outputs": [],
   "source": [
    "i = Int(\"i\")\n",
    "j = Int(\"j\")\n",
    "ip = Int(\"jp\")\n",
    "jp = Int(\"kp\")\n",
    "\n",
    "P = And(j == 0, i == 0)\n",
    "B = And(i < 100)\n",
    "Q = j == 200\n",
    "T = lambda i, j, ip, jp: And(jp==j + 2, ip==i + 1)"
   ]
  },
  {
   "cell_type": "code",
   "execution_count": 16,
   "metadata": {},
   "outputs": [],
   "source": [
    "I = lambda i, j: And(j==2*i, i<=100)"
   ]
  },
  {
   "cell_type": "code",
   "execution_count": 17,
   "metadata": {},
   "outputs": [
    {
     "name": "stdout",
     "output_type": "stream",
     "text": [
      "unsat\n",
      "unsat\n",
      "unsat\n"
     ]
    }
   ],
   "source": [
    "solver = Solver()\n",
    "solver.add(Not(Implies(P, I(i, j))))\n",
    "print(solver.check())\n",
    "\n",
    "solver = Solver()\n",
    "solver.add(Not(Implies(And(B, I(i, j), T(i, j, ip, jp)), I(ip, jp))))\n",
    "print(solver.check())\n",
    "\n",
    "solver = Solver()\n",
    "solver.add(Not(Implies(And(Not(B), I(i, j)), Q)))\n",
    "print(solver.check())"
   ]
  },
  {
   "attachments": {},
   "cell_type": "markdown",
   "metadata": {},
   "source": [
    "# /loop-zilu/benchmark19_conjunctive.c"
   ]
  },
  {
   "cell_type": "code",
   "execution_count": 18,
   "metadata": {},
   "outputs": [],
   "source": [
    "j = Int(\"j\")\n",
    "k = Int(\"k\")\n",
    "n = Int(\"n\")\n",
    "jp = Int(\"jp\")\n",
    "kp = Int(\"kp\")\n",
    "\n",
    "P = And(j == n, k == n, n > 0)\n",
    "B = And(j > 0, n > 0)\n",
    "Q = k == 0\n",
    "T = lambda j, k, jp, kp: And(jp==j - 1, kp==k - 1)"
   ]
  },
  {
   "cell_type": "code",
   "execution_count": 21,
   "metadata": {},
   "outputs": [],
   "source": [
    "I = lambda j,k,n: And(j==k, j           >=0, n > 0)"
   ]
  },
  {
   "cell_type": "code",
   "execution_count": 22,
   "metadata": {},
   "outputs": [
    {
     "name": "stdout",
     "output_type": "stream",
     "text": [
      "unsat\n",
      "unsat\n",
      "unsat\n"
     ]
    }
   ],
   "source": [
    "solver = Solver()\n",
    "solver.add(Not(Implies(P, I(j, k, n))))\n",
    "print(solver.check())\n",
    "\n",
    "solver = Solver()\n",
    "solver.add(Not(Implies(And(B, I(j, k, n), T(j, k, jp, kp)), I(jp, kp, n))))\n",
    "print(solver.check())\n",
    "\n",
    "solver = Solver()\n",
    "solver.add(Not(Implies(And(Not(B), I(j, k, n)), Q)))\n",
    "print(solver.check())"
   ]
  },
  {
   "attachments": {},
   "cell_type": "markdown",
   "metadata": {},
   "source": [
    "# /loop-zilu/benchmark03_linear.c"
   ]
  },
  {
   "cell_type": "code",
   "execution_count": null,
   "metadata": {},
   "outputs": [],
   "source": [
    "x = Int(\"x\")\n",
    "y = Int(\"y\")\n",
    "i = Int(\"i\")\n",
    "j = Int(\"j\")\n",
    "xp = Int(\"xp\")\n",
    "yp = Int(\"yp\")\n",
    "ip = Int(\"ip\")\n",
    "jp = Int(\"jp\")\n",
    "\n",
    "P = And(i == 0, j == 0, x ==0, y == 0)\n",
    "B = True \n",
    "Q = k == 0\n",
    "T = lambda x, y, i, j, xp, yp, ip, jp: And(xp==x+1, yp==y+1, ip==xp+i, jp==yp+j)"
   ]
  },
  {
   "cell_type": "code",
   "execution_count": null,
   "metadata": {},
   "outputs": [],
   "source": [
    "I = lambda j,k,n: And(j==k, j           >=0, n > 0)"
   ]
  },
  {
   "cell_type": "code",
   "execution_count": null,
   "metadata": {},
   "outputs": [
    {
     "name": "stdout",
     "output_type": "stream",
     "text": [
      "unsat\n",
      "unsat\n",
      "unsat\n"
     ]
    }
   ],
   "source": [
    "solver = Solver()\n",
    "solver.add(Not(Implies(P, I(j, k, n))))\n",
    "print(solver.check())\n",
    "\n",
    "solver = Solver()\n",
    "solver.add(Not(Implies(And(B, I(j, k, n), T(j, k, jp, kp)), I(jp, kp, n))))\n",
    "print(solver.check())\n",
    "\n",
    "solver = Solver()\n",
    "solver.add(Not(Implies(And(Not(B), I(j, k, n)), Q)))\n",
    "print(solver.check())"
   ]
  },
  {
   "cell_type": "code",
   "execution_count": null,
   "metadata": {},
   "outputs": [],
   "source": []
  }
 ],
 "metadata": {
  "kernelspec": {
   "display_name": "Python 3",
   "language": "python",
   "name": "python3"
  },
  "language_info": {
   "codemirror_mode": {
    "name": "ipython",
    "version": 3
   },
   "file_extension": ".py",
   "mimetype": "text/x-python",
   "name": "python",
   "nbconvert_exporter": "python",
   "pygments_lexer": "ipython3",
   "version": "3.10.6"
  },
  "orig_nbformat": 4
 },
 "nbformat": 4,
 "nbformat_minor": 2
}
