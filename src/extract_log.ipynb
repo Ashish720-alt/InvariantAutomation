{
 "cells": [
  {
   "cell_type": "code",
   "execution_count": 38,
   "metadata": {},
   "outputs": [],
   "source": [
    "import re\n",
    "\n",
    "# Regular expression pattern to match the desired line format\n",
    "pattern = re.compile(r'^(\\d{4}-\\d{2}-\\d{2} \\d{2}:\\d{2}:\\d{2}) (Task [\\w\\.]+) Round \\d+ completed successfully$')\n",
    "\n",
    "# Function to extract task name from a line\n",
    "def extract_task_name(line):\n",
    "    match = pattern.match(line)\n",
    "    if match:\n",
    "        return match.group(2)  # Group 2 corresponds to the Task name\n",
    "    return None\n",
    "\n",
    "\n",
    "# File path to read\n",
    "def extract_file(file_path):\n",
    "  # Read file and extract task names\n",
    "  try:\n",
    "      result = []\n",
    "      with open(file_path, 'r') as file:\n",
    "          for line in file:\n",
    "              line = line.strip()  # Remove leading/trailing whitespace and newline\n",
    "              task_name = extract_task_name(line)\n",
    "              if task_name:\n",
    "                result.append(task_name[5:])\n",
    "      return result\n",
    "  except FileNotFoundError:\n",
    "      print(f\"Error: The file '{file_path}' was not found.\")\n",
    "  except Exception as e:\n",
    "      print(f\"An error occurred: {e}\")\n"
   ]
  },
  {
   "cell_type": "code",
   "execution_count": 39,
   "metadata": {},
   "outputs": [],
   "source": [
    "listB = extract_file(\"run_all_log.txt\")"
   ]
  },
  {
   "cell_type": "code",
   "execution_count": 40,
   "metadata": {},
   "outputs": [],
   "source": [
    "listA = [\n",
    "   \"loop_zilu.benchmark53_polynomial.txt\",\n",
    "   \"loop_zilu.benchmark52_polynomial.txt\",\n",
    "   \"loop_zilu.benchmark51_polynomial.txt\",\n",
    "   \"loop_zilu.benchmark50_linear.txt\",\n",
    "   \"loop_zilu.benchmark48_linear.txt\",\n",
    "   \"loop_zilu.benchmark25_linear.txt\",\n",
    "   \"loop_zilu.benchmark17_conjunctive.txt\",\n",
    "   \"loop_zilu.benchmark14_linear.txt\",\n",
    "   \"loop_zilu.benchmark04_conjunctive.txt\",\n",
    "   \"loop_lit.cggmp2005_variant.txt\",\n",
    "   \"loop_zilu.benchmark26_linear.txt\",\n",
    "   \"loop_zilu.benchmark16_conjunctive.txt\",\n",
    "   \"loop_simple.nested_1.txt\",\n",
    "   \"loop_zilu.benchmark13_conjunctive.txt\",\n",
    "   \"loop_zilu.benchmark37_conjunctive.txt\",\n",
    "   \"loop_zilu.benchmark22_conjunctive.txt\",\n",
    "   \"loop_lit.gsv2008.txt\",\n",
    "   \"loop_new.count_by_1.txt\",\n",
    "   \"loop_zilu.benchmark01_conjunctive.txt\",\n",
    "   \"loop_zilu.benchmark15_conjunctive.txt\",\n",
    "   \"loop_zilu.benchmark43_conjunctive.txt\",\n",
    "   \"loop_zilu.benchmark35_linear.txt\",\n",
    "   \"loop_zilu.benchmark28_linear.txt\",\n",
    "   \"loop_lit.cggmp2005.txt\",\n",
    "   \"loop_zilu.benchmark42_conjunctive.txt\",\n",
    "   \"handcrafted.mock.txt\",\n",
    "   \"loop_zilu.benchmark36_conjunctive.txt\",\n",
    "   \"loop_zilu.benchmark44_disjunctive.txt\",\n",
    "   \"loop_zilu.benchmark20_conjunctive.txt\",\n",
    "   \"loop_lit.afnp2014_modified.txt\",\n",
    "   \"loop_zilu.benchmark09_conjunctive.txt\",\n",
    "   \"loop_zilu.benchmark29_linear.txt\",\n",
    "   \"loop_zilu.benchmark10_conjunctive.txt\",\n",
    "   \"loop_zilu.benchmark40_polynomial.txt\",\n",
    "   \"loop_zilu.benchmark31_disjunctive.txt\",\n",
    "   \"loop_lit.css2003.txt\",\n",
    "   \"loop_zilu.benchmark21_disjunctive.txt\",\n",
    "   \"loop_lit.bhmr2007.txt\",\n",
    "   \"loop_zilu.benchmark18_conjunctive.txt\"\n",
    "\n",
    "]\n",
    "\n",
    "listA = list(map(lambda x: x[:-4], listA))\n"
   ]
  },
  {
   "cell_type": "code",
   "execution_count": 41,
   "metadata": {},
   "outputs": [],
   "source": [
    "# count elements with a given prefix\n",
    "def is_prefixed_by(s, prefix):\n",
    "    if len(s) < len(prefix):\n",
    "        return False\n",
    "    return s[:len(prefix)] == prefix \n",
    "\n",
    "def count_prefixed_elements(lst, prefix):\n",
    "    return len([x for x in lst if is_prefixed_by(x, prefix)])"
   ]
  },
  {
   "cell_type": "code",
   "execution_count": 47,
   "metadata": {},
   "outputs": [],
   "source": [
    "def extract_file(file_path):\n",
    "\n",
    "  # Regular expression pattern to match the desired line format\n",
    "  pattern = re.compile(r'^Filename: ([\\w\\.]+)$')\n",
    "\n",
    "  # Function to extract file name from a line\n",
    "  def extract_file_name(line):\n",
    "      match = pattern.match(line)\n",
    "      if match:\n",
    "          return match.group(1)  # Group 1 corresponds to the file name\n",
    "      return None\n",
    "\n",
    "  # Read file and extract file names\n",
    "  try:\n",
    "      result = []\n",
    "      with open(file_path, 'r') as file:\n",
    "          for line in file:\n",
    "              line = line.strip()  # Remove leading/trailing whitespace and newline\n",
    "              file_name = extract_file_name(line)\n",
    "              if file_name:\n",
    "                 result.append(file_name)\n",
    "      return result\n",
    "  except FileNotFoundError:\n",
    "      print(f\"Error: The file '{file_path}' was not found.\")\n",
    "  except Exception as e:\n",
    "      print(f\"An error occurred: {e}\")"
   ]
  },
  {
   "cell_type": "code",
   "execution_count": 48,
   "metadata": {},
   "outputs": [],
   "source": [
    "def extract_content(file_path):\n",
    "# Regular expression pattern to match the desired line format\n",
    "  pattern = re.compile(r'^=== Contents of ([\\w\\.]+) ===$')\n",
    "\n",
    "  # Function to extract file name from a line\n",
    "  def extract_file_name(line):\n",
    "      match = pattern.match(line)\n",
    "      if match:\n",
    "          return match.group(1)  # Group 1 corresponds to the file name\n",
    "      return None\n",
    "\n",
    "  # Read file and extract file names\n",
    "  try:\n",
    "      result = []\n",
    "      with open(file_path, 'r') as file:\n",
    "          for line in file:\n",
    "              line = line.strip()  # Remove leading/trailing whitespace and newline\n",
    "              file_name = extract_file_name(line)\n",
    "              if file_name:\n",
    "                result.append(file_name)\n",
    "      return result\n",
    "  except FileNotFoundError:\n",
    "      print(f\"Error: The file '{file_path}' was not found.\")\n",
    "  except Exception as e:\n",
    "      print(f\"An error occurred: {e}\")"
   ]
  },
  {
   "cell_type": "code",
   "execution_count": 50,
   "metadata": {},
   "outputs": [],
   "source": [
    "listD = extract_file(\"output/all.log\")\n",
    "listD = list(map(lambda x: x[:-4], listD))"
   ]
  },
  {
   "cell_type": "code",
   "execution_count": 51,
   "metadata": {},
   "outputs": [],
   "source": [
    "listE = extract_content(\"output/all.log\") \n",
    "listE = list(map(lambda x: x[:-4], listE))"
   ]
  },
  {
   "cell_type": "code",
   "execution_count": 62,
   "metadata": {},
   "outputs": [],
   "source": [
    "listF = list(set(listD).union(set(listE)).union(set(listB)))"
   ]
  },
  {
   "cell_type": "code",
   "execution_count": 63,
   "metadata": {},
   "outputs": [
    {
     "data": {
      "text/plain": [
       "48"
      ]
     },
     "execution_count": 63,
     "metadata": {},
     "output_type": "execute_result"
    }
   ],
   "source": [
    "count_prefixed_elements(listF, \"loop_zilu\")"
   ]
  },
  {
   "cell_type": "code",
   "execution_count": 64,
   "metadata": {},
   "outputs": [
    {
     "data": {
      "text/plain": [
       "6"
      ]
     },
     "execution_count": 64,
     "metadata": {},
     "output_type": "execute_result"
    }
   ],
   "source": [
    "count_prefixed_elements(listF, \"loop_lit\")"
   ]
  },
  {
   "cell_type": "code",
   "execution_count": 65,
   "metadata": {},
   "outputs": [
    {
     "data": {
      "text/plain": [
       "2"
      ]
     },
     "execution_count": 65,
     "metadata": {},
     "output_type": "execute_result"
    }
   ],
   "source": [
    "count_prefixed_elements(listF, \"loop_new\")"
   ]
  },
  {
   "cell_type": "code",
   "execution_count": 66,
   "metadata": {},
   "outputs": [
    {
     "data": {
      "text/plain": [
       "1"
      ]
     },
     "execution_count": 66,
     "metadata": {},
     "output_type": "execute_result"
    }
   ],
   "source": [
    "count_prefixed_elements(listF, \"loop_simple\")"
   ]
  },
  {
   "cell_type": "code",
   "execution_count": null,
   "metadata": {},
   "outputs": [],
   "source": []
  }
 ],
 "metadata": {
  "kernelspec": {
   "display_name": "Python 3",
   "language": "python",
   "name": "python3"
  },
  "language_info": {
   "codemirror_mode": {
    "name": "ipython",
    "version": 3
   },
   "file_extension": ".py",
   "mimetype": "text/x-python",
   "name": "python",
   "nbconvert_exporter": "python",
   "pygments_lexer": "ipython3",
   "version": "3.10.12"
  }
 },
 "nbformat": 4,
 "nbformat_minor": 2
}
