{
 "cells": [
  {
   "cell_type": "code",
   "execution_count": 2,
   "metadata": {},
   "outputs": [],
   "source": [
    "from z3 import *\n",
    "\n",
    "def check(f1, f2, f3):\n",
    "    def __check(f):\n",
    "        s = Solver()\n",
    "        s.add(Not(f))\n",
    "        res = s.check()\n",
    "        print(res)\n",
    "        if res == sat:\n",
    "            print(s.model())\n",
    "    \n",
    "    __check(f1)\n",
    "    __check(f2)\n",
    "    __check(f3)\n",
    "\n",
    "# check the equivalence of p1 and p2 using z3\n",
    "def check_equivalence(p1, p2):\n",
    "    s1 = Solver()\n",
    "    s1.add(Not(p1 == p2))\n",
    "    s2 = Solver()\n",
    "    s2.add(Not(Implies(p2, p1)))\n",
    "    return s1.check() == unsat "
   ]
  },
  {
   "cell_type": "markdown",
   "metadata": {},
   "source": [
    "# loop-zilu"
   ]
  },
  {
   "cell_type": "code",
   "execution_count": 3,
   "metadata": {},
   "outputs": [
    {
     "name": "stdout",
     "output_type": "stream",
     "text": [
      "unsat\n",
      "unsat\n",
      "unsat\n"
     ]
    }
   ],
   "source": [
    "# loop-zilu/benchmark03_linear.c\n",
    "#   x = 0; y = 0;\n",
    "#   if (!(i==0 && j==0)) return 0;\n",
    "#   while (__VERIFIER_nondet_bool()) {\n",
    "#     x++;\n",
    "#     y++;\n",
    "#     i+=x;\n",
    "#     j+=y;\n",
    "#     if (flag) j+=1;\n",
    "#   }\n",
    "#   __VERIFIER_assert(j>=i);\n",
    "\n",
    "i = Int('i')\n",
    "j = Int('j')\n",
    "x = Int('x')\n",
    "y = Int('y')\n",
    "ip = Int('ip')\n",
    "jp = Int('jp')\n",
    "xp = Int('xp')\n",
    "yp = Int('yp')\n",
    "flag = Bool('flag')\n",
    "\n",
    "P = And(x==0, y==0, i==0, j==0)\n",
    "Q = j>=i\n",
    "T = And(xp==x+1, yp==y+1, ip==i+xp, Implies(Not(flag), jp==j+yp), Implies(flag, jp==j+1+yp))\n",
    "I = lambda i,j,x,y: And(-i+j>=0, x-y<=0)\n",
    "    # And(j==k, j>=0, n > 0)\n",
    "\n",
    "F1 = Implies(P, I(i,j,x,y))\n",
    "F2 = Implies(And(I(i,j,x,y), T), I(ip,jp,xp,yp))\n",
    "F3 = Implies(I(i,j,x,y), Q)\n",
    "\n",
    "check(F1, F2, F3)"
   ]
  },
  {
   "cell_type": "code",
   "execution_count": 4,
   "metadata": {},
   "outputs": [
    {
     "name": "stdout",
     "output_type": "stream",
     "text": [
      "unsat\n",
      "unsat\n",
      "unsat\n"
     ]
    }
   ],
   "source": [
    "#   loop-zilu/benchmark04_conjunctive.c\n",
    "#   if (!(n>=1 && k>=n && j==0)) return 0;\n",
    "#   while (j<=n-1) {\n",
    "#     j++;\n",
    "#     k--;\n",
    "#   }\n",
    "#   __VERIFIER_assert(k>=0);\n",
    "\n",
    "n = Int('n')\n",
    "k = Int('k')\n",
    "j = Int('j')\n",
    "jp = Int('jp')\n",
    "kp = Int('kp')\n",
    "\n",
    "P = And(n>=1, k>=n, j==0)\n",
    "Q = k>=0\n",
    "T = And(jp==j+1, kp==k-1)\n",
    "B = j<=n-1\n",
    "I = lambda n,k,j: And(j+k>=n, j<=n)\n",
    "\n",
    "F1 = Implies(P, I(n,k,j))\n",
    "F2 = Implies(And(I(n,k,j), B, T), I(n,kp,jp))\n",
    "F3 = Implies(I(n,k,j), Q)\n",
    "\n",
    "check(F1, F2, F3)"
   ]
  },
  {
   "cell_type": "code",
   "execution_count": 4,
   "metadata": {},
   "outputs": [
    {
     "name": "stdout",
     "output_type": "stream",
     "text": [
      "unsat\n",
      "unsat\n",
      "unsat\n"
     ]
    }
   ],
   "source": [
    "# loop-zilu/benchmark05_conjunctive.c\n",
    "#   if (!(x>=0 && x<=y && y<n)) return 0;\n",
    "#   while (x<n) {\n",
    "#     x++;\n",
    "#     if (x>y) y++;\n",
    "#   }\n",
    "#   __VERIFIER_assert(y==n);\n",
    "\n",
    "x = Int('x')\n",
    "y = Int('y')\n",
    "n = Int('n')\n",
    "xp = Int('xp')\n",
    "yp = Int('yp')\n",
    "\n",
    "P = And(x>=0, x<=y, y<n)\n",
    "Q = y==n\n",
    "B = x<n\n",
    "T = And(xp==x+1, Implies(xp>y, yp==y+1), Implies(Not(xp>y), yp==y))\n",
    "I = lambda x,y: And(x<=y, y<=n)\n",
    "\n",
    "\n",
    "\n",
    "F1 = Implies(P, I(x,y))\n",
    "F2 = Implies(And(I(x,y), B, T), I(xp,yp))\n",
    "F3 = Implies(And(Not(B), I(x,y)), Q)\n",
    "\n",
    "check(F1, F2, F3)"
   ]
  },
  {
   "cell_type": "code",
   "execution_count": 48,
   "metadata": {},
   "outputs": [
    {
     "name": "stdout",
     "output_type": "stream",
     "text": [
      "unsat\n",
      "unsat\n",
      "unsat\n"
     ]
    }
   ],
   "source": [
    "#   loop-zilu/benchmark06_conjunctive.c\n",
    "#   j=0;\n",
    "#   if (!(x+y==k)) return 0;\n",
    "#   while (__VERIFIER_nondet_bool()) {\n",
    "#     if(j==i) {x++;y--;} else {y++;x--;} j++;\n",
    "#   }\n",
    "#   __VERIFIER_assert(x+y==k);\n",
    "\n",
    "i = Int('i')\n",
    "j = Int('j')\n",
    "x = Int('x')\n",
    "y = Int('y')\n",
    "k = Int('k')\n",
    "ip = Int('ip')\n",
    "jp = Int('jp')\n",
    "xp = Int('xp')\n",
    "yp = Int('yp')\n",
    "\n",
    "P = And(j == 0, x + y == k)\n",
    "Q = x+y==k\n",
    "T = And(Implies(j==i, And(xp==x+1, yp==y-1)), Implies(Not(j==i), And(yp==y+1, xp==x-1)), jp==j+1)\n",
    "I = lambda i,j,x,y: x+y==k\n",
    "\n",
    "F1 = Implies(P, I(i,j,x,y))\n",
    "F2 = Implies(And(I(i,j,x,y), T), I(ip,jp,xp,yp))\n",
    "F3 = Implies(I(i,j,x,y), Q)\n",
    "\n",
    "check(F1, F2, F3)"
   ]
  },
  {
   "cell_type": "code",
   "execution_count": 8,
   "metadata": {},
   "outputs": [
    {
     "name": "stdout",
     "output_type": "stream",
     "text": [
      "unsat\n",
      "unsat\n",
      "unsat\n"
     ]
    }
   ],
   "source": [
    "# loop-zilu/benchmark07_linear.c; \n",
    "# modified to make it provable\n",
    "#   _Bool flag = __VERIFIER_nondet_bool();\n",
    "#   i=0;\n",
    "#   if (!(n>0 && n<10)) return 0;\n",
    "#   if (!(k>0)) return 0; // added by us; otherwise can't prove\n",
    "#   while (i<n) {\n",
    "#     i++;\n",
    "#     if(flag) k+=4000;\n",
    "#     else k+=2000;\n",
    "#   }\n",
    "#   __VERIFIER_assert(k>n);\n",
    "\n",
    "i = Int('i')\n",
    "j = Int('j')\n",
    "n = Int('n')\n",
    "k = Int('k')\n",
    "ip = Int('ip')\n",
    "kp = Int('kp')\n",
    "flag = Bool('flag')\n",
    "\n",
    "P = And(n>0, n<10, i==0, k>0)\n",
    "Q = k>n\n",
    "B = i<n\n",
    "T = And(ip==i+1, Implies(flag, kp==k+4000), Implies(Not(flag), kp==k+2000))\n",
    "I = lambda i,k: k>i\n",
    "\n",
    "F1 = Implies(P, I(i,k))\n",
    "F2 = Implies(And(I(i,k), B, T), I(ip,kp))\n",
    "F3 = Implies(And(Not(B), I(i,k)), Q)\n",
    "\n",
    "check(F1, F2, F3)"
   ]
  },
  {
   "cell_type": "code",
   "execution_count": 15,
   "metadata": {},
   "outputs": [
    {
     "name": "stdout",
     "output_type": "stream",
     "text": [
      "unsat\n",
      "unsat\n",
      "unsat\n"
     ]
    }
   ],
   "source": [
    "# loop-zilu/benchmark13_conjunctive.c\n",
    "#   if (!(i==0 && j==0)) return 0;\n",
    "#   while (i <= k) {\n",
    "#     i++;\n",
    "#     j=j+1;\n",
    "#   }\n",
    "#   __VERIFIER_assert(j==i);\n",
    "\n",
    "i = Int('i')\n",
    "j = Int('j')\n",
    "k = Int('k')\n",
    "ip = Int('ip')\n",
    "jp = Int('jp')\n",
    "\n",
    "P = And(i == 0, j == 0)\n",
    "Q = And(j == i)\n",
    "B = And(i <= k)\n",
    "T = And(i == ip + 1, j == jp + 1)\n",
    "I = lambda i, j: And((-1*i + 1*j + 0*k <= 0),(1*i + -1*j + 0*k <= 0))\n",
    "# And(i == j)\n",
    "\n",
    "F1 = Implies(P, I(i, j))\n",
    "F2 = Implies(And(I(i, j), B, T), I(ip, jp))\n",
    "F3 = Implies(And(I(i, j), Not(B)), Q)\n",
    "\n",
    "check(F1, F2, F3)"
   ]
  },
  {
   "cell_type": "code",
   "execution_count": 46,
   "metadata": {},
   "outputs": [
    {
     "name": "stdout",
     "output_type": "stream",
     "text": [
      "unsat\n",
      "unsat\n",
      "unsat\n"
     ]
    }
   ],
   "source": [
    "# loop-zilu/benchmark15_conjunctive.c\n",
    "#   if (!(low == 0 && mid >= 1 && high == 2*mid)) return 0;\n",
    "#   while (mid > 0) {\n",
    "#     low = low + 1;\n",
    "#     high = high - 1;\n",
    "#     mid = mid - 1;\n",
    "#   }\n",
    "#   __VERIFIER_assert(low == high);\n",
    "\n",
    "low = Int('low')\n",
    "mid = Int('mid')\n",
    "high = Int('high')\n",
    "lowp = Int('lowp')\n",
    "midp = Int('midp')\n",
    "highp = Int('highp')\n",
    "\n",
    "P = And(low == 0, mid >= 1, high == 2*mid)\n",
    "Q = low == high\n",
    "B = mid > 0\n",
    "T = And(lowp == low + 1, highp == high - 1, midp == mid - 1)\n",
    "I = lambda low, mid, high: And(low+2*mid == high, mid>=0)\n",
    "\n",
    "F1 = Implies(P, I(low, mid, high))\n",
    "F2 = Implies(And(I(low, mid, high), B, T), I(lowp, midp, highp))\n",
    "F3 = Implies(And(I(low, mid, high), Not(B)), Q)\n",
    "\n",
    "check(F1, F2, F3)"
   ]
  },
  {
   "cell_type": "code",
   "execution_count": 14,
   "metadata": {},
   "outputs": [
    {
     "name": "stdout",
     "output_type": "stream",
     "text": [
      "unsat\n",
      "unsat\n",
      "unsat\n"
     ]
    }
   ],
   "source": [
    "#   loop-zilu/benchmark16_conjunctive.c\n",
    "#   if (!(0 <= k && k <= 1 && i == 1)) return 0;\n",
    "#   while (__VERIFIER_nondet_bool()) {\n",
    "#     i = i + 1;\n",
    "#     k = k - 1;\n",
    "#   }\n",
    "#   __VERIFIER_assert(1 <= i + k && i + k <= 2 && i >= 1);\n",
    "\n",
    "i = Int('i')\n",
    "k = Int('k')\n",
    "ip = Int('ip')\n",
    "kp = Int('kp')\n",
    "\n",
    "P = And(0 <= k, k <= 1, i == 1)\n",
    "Q = And(1 <= i + k, i + k <= 2, i >= 1)\n",
    "T = And(ip == i + 1, kp == k - 1)\n",
    "I = lambda i, k: And((-2*i + 1*k <= -1) , (-1*i + -1*k <= -1) , (1*i + 1*k <= 2))\n",
    "#  And(1 <= i + k, i + k <= 2, i >= 1)\n",
    "\n",
    "F1 = Implies(P, I(i, k))\n",
    "F2 = Implies(And(I(i,k), T), I(ip, kp))\n",
    "F3 = Implies(I(i,k), Q)\n",
    "\n",
    "check(F1, F2, F3)"
   ]
  },
  {
   "cell_type": "code",
   "execution_count": 13,
   "metadata": {},
   "outputs": [
    {
     "name": "stdout",
     "output_type": "stream",
     "text": [
      "unsat\n",
      "unsat\n",
      "unsat\n"
     ]
    }
   ],
   "source": [
    "# loop-zilu/benchmark18_conjunctive.c\n",
    "#   if (!((i==0) && (k==0) && (n>0))) return 0;\n",
    "#   while (i < n) {\n",
    "#     i++;k++;\n",
    "  # }\n",
    "  # __VERIFIER_assert((i == k) && (k == n));\n",
    "    \n",
    "i = Int('i')\n",
    "k = Int('k')\n",
    "n = Int('n')\n",
    "ip = Int('ip')\n",
    "kp = Int('kp')\n",
    "\n",
    "P = And(i==0, k==0, n>0)\n",
    "B = i < n\n",
    "Q = And(i==k, k==n)\n",
    "T = And(ip==i+1, kp==k+1)\n",
    "I = lambda i, k: And((-1*i + 1*k + 0*n <= 0) , (2*i + -1*k + -1*n <= 0) , (1*i + -1*k + 0*n <= 0))\n",
    "# And(i==k, i<=n)\n",
    "\n",
    "F1 = Implies(P, I(i, k))\n",
    "F2 = Implies(And(I(i,k), B, T), I(ip, kp))\n",
    "F3 = Implies(And(I(i,k), Not(B)), Q)\n",
    "\n",
    "check(F1, F2, F3)"
   ]
  },
  {
   "cell_type": "code",
   "execution_count": 19,
   "metadata": {},
   "outputs": [
    {
     "name": "stdout",
     "output_type": "stream",
     "text": [
      "unsat\n",
      "unsat\n",
      "unsat\n"
     ]
    }
   ],
   "source": [
    "# /loop-zilu/benchmark19_conjunctive.c\n",
    "#   if (!((j==n) && (k==n) && (n>0))) return 0;\n",
    "#   while (j>0 && n>0) {\n",
    "#     j--;k--;\n",
    "#   }\n",
    "#   __VERIFIER_assert((k == 0));\n",
    "\n",
    "j = Int(\"j\")\n",
    "k = Int(\"k\")\n",
    "n = Int(\"n\")\n",
    "jp = Int(\"jp\")\n",
    "kp = Int(\"kp\")\n",
    "\n",
    "P = And(j == n, k == n, n > 0)\n",
    "B = And(j > 0, n > 0)\n",
    "Q = k == 0\n",
    "T = lambda j, k, jp, kp: And(jp==j - 1, kp==k - 1)\n",
    "I = lambda j,k,n: And(j==k, j>=0, n > 0)\n",
    "\n",
    "F1 = Implies(P, I(j, k, n))\n",
    "F2 = Implies(And(B, I(j, k, n), T(j, k, jp, kp)), I(jp, kp, n))\n",
    "F3 = Implies(And(Not(B), I(j, k, n)), Q)\n",
    "\n",
    "check(F1, F2, F3)"
   ]
  },
  {
   "cell_type": "code",
   "execution_count": 25,
   "metadata": {},
   "outputs": [
    {
     "name": "stdout",
     "output_type": "stream",
     "text": [
      "unsat\n",
      "unsat\n",
      "unsat\n"
     ]
    }
   ],
   "source": [
    "# loop-zilu/benchmark22_conjunctive.c\n",
    "#   if (!(x==1 && y==0)) return 0;\n",
    "#   while (__VERIFIER_nondet_bool()) {\n",
    "#     x=x+y;\n",
    "#     y++;\n",
    "#   }\n",
    "#   __VERIFIER_assert(x >= y);\n",
    "\n",
    "x = Int('x')\n",
    "y = Int('y')\n",
    "xp = Int('xp')\n",
    "yp = Int('yp')\n",
    "\n",
    "P = And(x==1, y==0)\n",
    "Q = x >= y\n",
    "T = And(xp == x + y, yp == y + 1)\n",
    "I = lambda x, y: And(x >= y, x>=1, y >= 0)\n",
    "\n",
    "F1 = Implies(P, I(x, y))\n",
    "F2 = Implies(And(I(x, y), T), I(xp, yp))\n",
    "F3 = Implies(I(x, y), Q)\n",
    "\n",
    "check(F1, F2, F3)"
   ]
  },
  {
   "cell_type": "code",
   "execution_count": null,
   "metadata": {},
   "outputs": [],
   "source": [
    "#    /loop-zilu/benchmark23_conjunctive.c\n",
    "#   if (!(i==0 && j==0)) return 0;\n",
    "#   while (i<100) {\n",
    "#     j+=2;\n",
    "#     i++;\n",
    "#   }\n",
    "#   __VERIFIER_assert(j==200);\n",
    "\n",
    "i = Int(\"i\")\n",
    "j = Int(\"j\")\n",
    "ip = Int(\"jp\")\n",
    "jp = Int(\"kp\")\n",
    "\n",
    "P = And(j == 0, i == 0)\n",
    "B = And(i < 100)\n",
    "Q = j == 200\n",
    "T = lambda i, j, ip, jp: And(jp==j + 2, ip==i + 1)\n",
    "\n",
    "I = lambda i, j: And(j==2*i, i<=100)\n",
    "\n",
    "solver = Solver()\n",
    "solver.add(Not(Implies(P, I(i, j))))\n",
    "print(solver.check())\n",
    "\n",
    "solver = Solver()\n",
    "solver.add(Not(Implies(And(B, I(i, j), T(i, j, ip, jp)), I(ip, jp))))\n",
    "print(solver.check())\n",
    "\n",
    "solver = Solver()\n",
    "solver.add(Not(Implies(And(Not(B), I(i, j)), Q)))\n",
    "print(solver.check())"
   ]
  },
  {
   "cell_type": "code",
   "execution_count": null,
   "metadata": {},
   "outputs": [
    {
     "name": "stdout",
     "output_type": "stream",
     "text": [
      "unsat\n",
      "unsat\n",
      "unsat\n"
     ]
    }
   ],
   "source": [
    "# loop-zilu/benchmark24_conjunctive.c\n",
    "#   if (!(i==0 && k==n && n>=0)) return 0;\n",
    "#   while (i<n) {\n",
    "#     k--;\n",
    "#     i+=2;\n",
    "#   }\n",
    "#   __VERIFIER_assert(2*k>=n-1);\n",
    "\n",
    "i = Int('i')\n",
    "k = Int('k')\n",
    "n = Int('n')\n",
    "ip = Int('ip')\n",
    "kp = Int('kp')\n",
    "\n",
    "P = And(i==0, k==n, n>=0)\n",
    "Q = And(2*k>=n-1)\n",
    "B = And(i<n)\n",
    "T = And(ip == i+2, kp == k-1)\n",
    "I = lambda i, k, n: And( 2*n <= i + 2*k, i<=2+2*k)\n",
    "# I = lambda i, k, n: And( 2*n <= i + 2*k, i-n<=1)\n",
    "# I = lambda i, k, n: And( 2*n <= i + 2*k, 2 * (i - k) <= 4 + n)\n",
    "\n",
    "F1 = Implies(P, I(i, k, n))\n",
    "F2 = Implies(And(I(i, k, n), B, T), I(ip, kp, n)) \n",
    "F3 = Implies(And(I(i, k, n), Not(B)), Q)\n",
    "\n",
    "check(F1, F2, F3)"
   ]
  },
  {
   "cell_type": "code",
   "execution_count": 32,
   "metadata": {},
   "outputs": [
    {
     "name": "stdout",
     "output_type": "stream",
     "text": [
      "unsat\n",
      "unsat\n",
      "unsat\n"
     ]
    }
   ],
   "source": [
    "# loop-zilu/benchmark28_linear.c\n",
    "# The original program is incorrect. We add a pre condition to make it correct.\n",
    "#   if (!(i * i < j * j)) return 0;\n",
    "#   if (!(j >= 0)) return 0; // added by us\n",
    "#   while (i < j) {\n",
    "#     j = j - i;\n",
    "#     if (j < i) {j = j + i;\n",
    "#     i = j - i;\n",
    "#     j = j - i;}\n",
    "#   }\n",
    "#   __VERIFIER_assert(j == i);\n",
    "\n",
    "i = Int('i')\n",
    "j = Int('j')\n",
    "ip = Int('ip')\n",
    "j1 = Int('j1')\n",
    "j2 = Int('j2')\n",
    "j3 = Int('j3')\n",
    "\n",
    "P = And(Or(And(i-j<0, i+j>0), And(i-j>0, i+j<0)), j>=0) \n",
    "Q = j == i\n",
    "B = i < j\n",
    "T = And(j1 == j - i, Implies(j1 < i, And(j2 == j1 + i, ip == j2 - i, j3 == j2 - ip)), Implies(j1 >= i, And(j1 == j, ip == i, j2 == j1, j3 == j2)))\n",
    "I = lambda i, j: And(i<=j)\n",
    "\n",
    "F1 = Implies(P, I(i, j))\n",
    "F2 = Implies(And(I(i, j), B, T), I(ip, j3))\n",
    "F3 = Implies(And(I(i, j), Not(B)), Q)\n",
    "\n",
    "check(F1, F2, F3)"
   ]
  },
  {
   "cell_type": "code",
   "execution_count": 41,
   "metadata": {},
   "outputs": [
    {
     "name": "stdout",
     "output_type": "stream",
     "text": [
      "unsat\n",
      "unsat\n",
      "unsat\n"
     ]
    }
   ],
   "source": [
    "# loop-zilu/benchmark34_conjunctive.c\n",
    "#   if (!((j==0) && (k==n) && (n>0))) return 0;\n",
    "#   while (j<n && n>0) {\n",
    "#     j++;k--;\n",
    "#   }\n",
    "#   __VERIFIER_assert((k == 0));\n",
    "\n",
    "j = Int('j')\n",
    "k = Int('k')\n",
    "n = Int('n')\n",
    "jp = Int('jp')\n",
    "kp = Int('kp')\n",
    "\n",
    "P = And(j == 0, k == n, n > 0)\n",
    "B = And(j < n, n > 0)\n",
    "Q = k == 0\n",
    "T = And(jp == j + 1, kp == k - 1)\n",
    "I = lambda j, k, n: And(j+k == n, j>=0, k>=0)\n",
    "\n",
    "F1 = Implies(P, I(j, k, n))\n",
    "F2 = Implies(And(B, I(j, k, n), T), I(jp, kp, n))\n",
    "F3 = Implies(And(Not(B), I(j, k, n)), Q)\n",
    "\n",
    "check(F1, F2, F3)"
   ]
  },
  {
   "cell_type": "code",
   "execution_count": 14,
   "metadata": {},
   "outputs": [
    {
     "name": "stdout",
     "output_type": "stream",
     "text": [
      "unsat\n",
      "unsat\n",
      "unsat\n"
     ]
    }
   ],
   "source": [
    "# loop-zilu/benchmark41_conjunctive.c\n",
    "#   if (!(x == y && y == 0 && z==0)) return 0;\n",
    "#   while (__VERIFIER_nondet_bool()) {\n",
    "#     x++;y++;z-=2;\n",
    "#   }\n",
    "#   __VERIFIER_assert(x == y && x >= 0 && x+y+z==0);\n",
    "\n",
    "x = Int('x')\n",
    "y = Int('y')\n",
    "z = Int('z')\n",
    "xp = Int('xp')\n",
    "yp = Int('yp')\n",
    "zp = Int('zp')\n",
    "\n",
    "P = And(x == y, y == 0, z==0)\n",
    "Q = And(x == y, x >= 0, x+y+z==0)\n",
    "B = True\n",
    "T = And(xp == x + 1, yp == y + 1, zp == z - 2)\n",
    "I = lambda x, y, z: And(x - y == 0,x + y + z == 0,-x + 2*z <= 3)\n",
    "# And(x == y, x + y + z == 0, x >= 0)\n",
    "\n",
    "F1 = Implies(P, I(x, y, z))\n",
    "F2 = Implies(And(I(x, y, z), B, T), I(xp, yp, zp))\n",
    "F3 = Implies(I(x, y, z), Q)\n",
    "\n",
    "check(F1, F2, F3)"
   ]
  },
  {
   "cell_type": "code",
   "execution_count": 15,
   "metadata": {},
   "outputs": [
    {
     "name": "stdout",
     "output_type": "stream",
     "text": [
      "unsat\n",
      "sat\n",
      "[xp = 5, x = -2, xpp = 15, yp = -11, ypp = -8, y = -1]\n",
      "sat\n",
      "[x = 0, y = -17]\n"
     ]
    }
   ],
   "source": [
    "# loop-zilu/benchmark44_disjunctive.c\n",
    "#   if (!(x<y)) return 0;\n",
    "#   while (x<y) {\n",
    "#     if ((x<0 && y<0)) {\n",
    "#       x=x+7; y=y-10;\n",
    "#     }\n",
    "#     if ((x<0 && y>=0)) {\n",
    "#       x=x+7; y=y+3;\n",
    "#     } else {\n",
    "#       x=x+10; y=y+3;\n",
    "#     }\n",
    "#   }\n",
    "#   __VERIFIER_assert(x >= y && x <= y + 16);\n",
    "\n",
    "x = Int('x')\n",
    "y = Int('y')\n",
    "xp = Int('xp')\n",
    "yp = Int('yp')\n",
    "xpp = Int('xpp')\n",
    "ypp = Int('ypp')\n",
    "\n",
    "P = x < y\n",
    "Q = And(x >= y, x <= y + 16)\n",
    "B = x < y\n",
    "T = And(Implies(And(x < 0, y < 0), And(xp == x + 7, yp == y - 10)),\n",
    "        Implies(Not(And(x < 0, y < 0)), And(xp == x, yp == y)),\n",
    "        Implies(And(xp < 0, yp >= 0), And(xpp == xp + 7, ypp == yp + 3)),\n",
    "        Implies(Not(And(xp < 0, yp >= 0)), And(xpp == xp + 10, ypp == yp + 3)))\n",
    "I = lambda x, y: And(x <= y + 16)\n",
    "\n",
    "F1 = Implies(P, I(x, y))\n",
    "F2 = Implies(And(I(x, y), B, T), I(xpp, ypp))\n",
    "F3 = Implies(And(Not(B, I(x, y))), Q)\n",
    "\n",
    "check(F1, F2, F3)    "
   ]
  },
  {
   "cell_type": "code",
   "execution_count": 8,
   "metadata": {},
   "outputs": [
    {
     "name": "stdout",
     "output_type": "stream",
     "text": [
      "unsat\n",
      "unsat\n",
      "unsat\n"
     ]
    }
   ],
   "source": [
    "# loop-zilu/benchmark47_linear.c\n",
    "#   if (!(x<y)) return 0;\n",
    "#   while (x<y) {\n",
    "#     if (x < 0) x = x + 7;\n",
    "#     else x = x + 10;\n",
    "#     if (y < 0) y = y - 10;\n",
    "#     else y = y + 3;\n",
    "#   }\n",
    "#   __VERIFIER_assert(x >= y && x <= y + 16);\n",
    "\n",
    "x = Int('x')\n",
    "y = Int('y')\n",
    "xp = Int('xp')\n",
    "yp = Int('yp')\n",
    "\n",
    "P = x < y\n",
    "B = x < y\n",
    "Q = And(x >= y, x <= y + 16)\n",
    "T = And(Implies(x < 0, xp == x + 7), Implies(Not(x < 0), xp == x + 10),\n",
    "        Implies(y < 0, yp == y - 10), Implies(Not(y < 0), yp == y + 3))\n",
    "I = lambda x, y: x <= y + 16\n",
    "\n",
    "F1 = Implies(P, I(x, y))\n",
    "F2 = Implies(And(I(x, y), B, T), I(xp, yp))\n",
    "F3 = Implies(And(Not(B), I(x, y)), Q)\n",
    "\n",
    "check(F1, F2, F3)"
   ]
  },
  {
   "cell_type": "code",
   "execution_count": 11,
   "metadata": {},
   "outputs": [
    {
     "name": "stdout",
     "output_type": "stream",
     "text": [
      "unsat\n",
      "unsat\n",
      "unsat\n"
     ]
    }
   ],
   "source": [
    "# loop-zilu/benchmark48_linear.c\n",
    "#   if (!(i<j && k> 0)) return 0;\n",
    "#   while (i<j) {\n",
    "#     k=k+1;i=i+1;\n",
    "#   }\n",
    "#   __VERIFIER_assert(k > j - i);\n",
    "\n",
    "i = Int('i')\n",
    "j = Int('j')\n",
    "k = Int('k')\n",
    "ip = Int('ip')\n",
    "kp = Int('kp')\n",
    "\n",
    "P = And(i<j, k>0)\n",
    "Q = k > j - i\n",
    "B = i < j\n",
    "T = And(kp == k + 1, ip == i + 1)\n",
    "I = lambda i, j, k: i-j-k<=-2\n",
    "# And(k>=1)\n",
    "\n",
    "F1 = Implies(P, I(i, j, k))\n",
    "F2 = Implies(And(I(i, j, k), B, T), I(ip, j, kp))\n",
    "F3 = Implies(And(Not(B), I(i, j, k)), Q)\n",
    "\n",
    "check(F1, F2, F3)"
   ]
  },
  {
   "cell_type": "code",
   "execution_count": 4,
   "metadata": {},
   "outputs": [
    {
     "name": "stdout",
     "output_type": "stream",
     "text": [
      "sat\n",
      "[x = -1, y = -1]\n",
      "sat\n",
      "[xp = -1, x = 0, xpp = -2, yp = 0, y = 0]\n",
      "unsat\n"
     ]
    }
   ],
   "source": [
    "# loop-zilu/benchmark53_polynomial.c\n",
    "#   if (!(x*y>=0)) return 0;\n",
    "#   while (__VERIFIER_nondet_bool()) {\n",
    "#     if(x==0)\n",
    "#     { if (y>0) x++;\n",
    "#       else x--;} \n",
    "#     if(x>0) y++;\n",
    "#       else x--;\n",
    "#   }\n",
    "#   __VERIFIER_assert(x*y>=0);\n",
    "\n",
    "x = Int('x')\n",
    "y = Int('y')\n",
    "xp = Int('xp')\n",
    "xpp = Int('xpp')\n",
    "yp = Int('yp')\n",
    "\n",
    "P = Or(And(x>=0, y>=0), And(x<=0, y<=0))# x*y>=0 # [1, 0, -1, 0], [0, 1, -1, 0]\n",
    "Q = x*y>=0\n",
    "B = True\n",
    "T = And(Implies(x==0, And(Implies(y>0, xp==x+1), Implies(y<=0, xp==x-1))),\n",
    "        Implies(x!=0, xp==x),\n",
    "        And(Implies(xp>0, And(yp==y+1, xpp==xp)),\n",
    "            Implies(xp<=0, And(yp==y, xpp==xp-1))))\n",
    "I = lambda x, y: And(x>=0, y>=0)\n",
    "# I = lambda x, y: Or(And(x>=0, y>=0), And(x<=0, y<=0))\n",
    "# x*y>=0\n",
    "# Wrong: Or(And(y<=0, x<=0), And(x-y<=-28, -x+2*y<=9))\n",
    "\n",
    "F1 = Implies(P, I(x, y))\n",
    "F2 = Implies(And(I(x, y), B, T), I(xpp, yp))\n",
    "F3 = Implies(And(Not(B), I(x, y)), Q)\n",
    "\n",
    "check(F1, F2, F3)"
   ]
  },
  {
   "cell_type": "markdown",
   "metadata": {},
   "source": [
    "# Other benchmarks"
   ]
  },
  {
   "cell_type": "code",
   "execution_count": 41,
   "metadata": {},
   "outputs": [
    {
     "name": "stdout",
     "output_type": "stream",
     "text": [
      "unsat\n",
      "unsat\n",
      "unsat\n"
     ]
    }
   ],
   "source": [
    "# loop-lit/afnp2014.c\n",
    "# int x = 1;\n",
    "# int y = 0;\n",
    "# while (y < 1000 && __VERIFIER_nondet_int()) {\n",
    "#     x = x + y;\n",
    "#     y = y + 1;\n",
    "# }\n",
    "# __VERIFIER_assert(x >= y);\n",
    "\n",
    "x = Int('x')\n",
    "y = Int('y')\n",
    "xp = Int('xp')\n",
    "yp = Int('yp')\n",
    "\n",
    "P = And(x == 1, y == 0)\n",
    "B = And(y < 1000, Bool('nondet'))\n",
    "Q = x >= y\n",
    "T = And(xp == x + y, yp == y + 1)\n",
    "I = lambda x, y: And(x >= y, x >= 1, y >= 0)\n",
    "\n",
    "F1 = Implies(P, I(x, y))\n",
    "F2 = Implies(And(I(x, y), B, T), I(xp, yp))\n",
    "F3 = Implies(And(I(x, y), Not(B)), Q)\n",
    "\n",
    "check(F1, F2, F3)"
   ]
  },
  {
   "cell_type": "code",
   "execution_count": 11,
   "metadata": {},
   "outputs": [
    {
     "name": "stdout",
     "output_type": "stream",
     "text": [
      "unsat\n",
      "unsat\n",
      "unsat\n"
     ]
    }
   ],
   "source": [
    "# loop-lit/bhmr2007.c\n",
    "#     i = 0; a = 0; b = 0; n = __VERIFIER_nondet_int();\n",
    "#     if (!(n >= 0 && n <= LARGE_INT)) return 0;\n",
    "#     while (i < n) {\n",
    "#         if (__VERIFIER_nondet_int()) {\n",
    "#             a = a + 1;\n",
    "#             b = b + 2;\n",
    "#         } else {\n",
    "#             a = a + 2;\n",
    "#             b = b + 1;\n",
    "#         }\n",
    "#         i = i + 1;\n",
    "#     }\n",
    "#     __VERIFIER_assert(a + b == 3*n);\n",
    "\n",
    "i = Int('i')\n",
    "a = Int('a')\n",
    "b = Int('b')\n",
    "n = Int('n')\n",
    "ap = Int('ap')\n",
    "bp = Int('bp')\n",
    "ip = Int('ip')\n",
    "\n",
    "P = And(i == 0, a == 0, b == 0, n >= 0, n <= 100000000)\n",
    "Q = a + b == 3*n\n",
    "B = i < n\n",
    "T = And(Or(And(ap == a + 1, bp == b + 2), And(ap == a + 2, bp == b + 1)), ip == i + 1)\n",
    "I = lambda a, b, i: And(a + b == 3*i, i<=n)\n",
    "\n",
    "F1 = Implies(P, I(a, b, i))\n",
    "F2 = Implies(And(I(a, b, i), B, T), I(ap, bp, ip))\n",
    "F3 = Implies(And(I(a, b, i), Not(B)), Q)\n",
    "\n",
    "check(F1, F2, F3)\n"
   ]
  },
  {
   "cell_type": "code",
   "execution_count": null,
   "metadata": {},
   "outputs": [
    {
     "name": "stdout",
     "output_type": "stream",
     "text": [
      "unsat\n",
      "unsat\n",
      "unsat\n"
     ]
    }
   ],
   "source": [
    "# loop-lit/cggmp2005.c\n",
    "#     i = 1;\n",
    "#     j = 10;\n",
    "#     while (j >= i) {\n",
    "#         i = i + 2;\n",
    "#         j = -1 + j;\n",
    "#     }\n",
    "#     __VERIFIER_assert(j == 6);\n",
    "\n",
    "i = Int('i')\n",
    "j = Int('j')\n",
    "ip = Int('ip')\n",
    "jp = Int('jp')\n",
    "\t# (i<=j)\n",
    "\t# (i+2*j==21)\n",
    "P = And(i==1, j == 10)\n",
    "B = j >= i\n",
    "Q = j == 6\n",
    "T = And(ip == i + 2, jp == j - 1)\n",
    "I = lambda i, j: And(i+2*j==21, j>=6)\n",
    "\n",
    "F1 = Implies(P, I(i,j))\n",
    "F2 = Implies(And(I(i,j), B, T), I(ip,jp))\n",
    "F3 = Implies(And(I(i,j), Not(B)), Q)\n",
    "\n",
    "check(F1, F2, F3)"
   ]
  },
  {
   "cell_type": "code",
   "execution_count": 12,
   "metadata": {},
   "outputs": [
    {
     "name": "stdout",
     "output_type": "stream",
     "text": [
      "unsat\n",
      "unsat\n",
      "unsat\n"
     ]
    }
   ],
   "source": [
    "# loop-lit/cggmp2005_variant.c\n",
    "#     lo = 0;\n",
    "#     mid = __VERIFIER_nondet_int();\n",
    "#     if (!(mid > 0 && mid <= LARGE_INT)) return 0;\n",
    "#     hi = 2*mid;    \n",
    "#     while (mid > 0) {\n",
    "#         lo = lo + 1;\n",
    "#         hi = hi - 1;\n",
    "#         mid = mid - 1;\n",
    "#     }\n",
    "#     __VERIFIER_assert(lo == hi);\n",
    "\n",
    "lo = Int('lo')\n",
    "mid = Int('mid')\n",
    "hi = Int('hi')\n",
    "lop = Int('lop')\n",
    "midp = Int('midp')\n",
    "hip = Int('hip')\n",
    "\n",
    "P = And(lo == 0, mid > 0, mid <= 100000000, hi == 2*mid)\n",
    "Q = lo == hi\n",
    "B = mid > 0\n",
    "T = And(lop == lo + 1, hip == hi - 1, midp == mid - 1)\n",
    "I = lambda lo, mid, hi: And(lo + 2*mid == hi, mid>=0)\n",
    "\n",
    "F1 = Implies(P, I(lo, mid, hi))\n",
    "F2 = Implies(And(I(lo, mid, hi), B, T), I(lop, midp, hip))\n",
    "F3 = Implies(And(I(lo, mid, hi), Not(B)), Q)\n",
    "\n",
    "check(F1, F2, F3)"
   ]
  },
  {
   "cell_type": "code",
   "execution_count": 33,
   "metadata": {},
   "outputs": [
    {
     "name": "stdout",
     "output_type": "stream",
     "text": [
      "unsat\n",
      "unsat\n",
      "unsat\n"
     ]
    }
   ],
   "source": [
    "# loop-lit/gsv2008.c\n",
    "    # int x = -50;\n",
    "    # if (!(-1000 < y && y < LARGE_INT)) return 0;\n",
    "    # while (x < 0) {\n",
    "\t# x = x + y;\n",
    "\t# y++;\n",
    "    # }\n",
    "    # __VERIFIER_assert(y > 0);\n",
    "\n",
    "x = Int('x')\n",
    "y = Int('y')\n",
    "xp = Int('xp')\n",
    "yp = Int('yp')\n",
    "\n",
    "P = And(x == -50, -10000 < y, y < 1000000)\n",
    "B = x < 0\n",
    "Q = y > 0\n",
    "T = And(xp == x + y, yp == y + 1)\n",
    "I = lambda x, y: Or(y > 0, x < 0)\n",
    "\n",
    "F1 = Implies(P, I(x, y))\n",
    "F2 = Implies(And(I(x, y), B, T), I(xp, yp)) # (y>0 or x<0) and x<0 and x'=x+y and y'=y+1 -> y+1>0 or x+y<0\n",
    "F3 = Implies(And(I(x, y), Not(B)), Q)\n",
    "\n",
    "check(F1, F2, F3)"
   ]
  },
  {
   "cell_type": "code",
   "execution_count": 38,
   "metadata": {},
   "outputs": [
    {
     "name": "stdout",
     "output_type": "stream",
     "text": [
      "unsat\n",
      "unsat\n",
      "unsat\n"
     ]
    }
   ],
   "source": [
    "# loop-lit/gj2007.c\n",
    "# This one is really hard if we only use <= and not use ==.\n",
    "    # int x = 0;\n",
    "    # int y = 50;\n",
    "    # while(x < 100) {\n",
    "\t# if (x < 50) {\n",
    "\t#     x = x + 1;\n",
    "\t# } else {\n",
    "\t#     x = x + 1;\n",
    "\t#     y = y + 1;\n",
    "\t# }\n",
    "    # }\n",
    "    # __VERIFIER_assert(y == 100);\n",
    "\n",
    "x = Int('x')\n",
    "y = Int('y')\n",
    "xp = Int('xp')\n",
    "yp = Int('yp')\n",
    "\n",
    "P = And(x == 0, y == 50)\n",
    "B = x < 100\n",
    "Q = y == 100\n",
    "T = And(Implies(x < 50, And(xp == x+1, yp == y)), \n",
    "        Implies(x >= 50, And(xp == x+1, yp == y+1)))\n",
    "I = lambda x, y: Or(And(y == 50, x<50), And(y == x, x>=50, y<=100)) # this is the DNF\n",
    "# And(y <= 100, Implies(x<50, y==50), Implies(x>=50, y==x)); this is the CNF\n",
    "\n",
    "F1 = Implies(P, I(x, y))\n",
    "F2 = Implies(And(I(x, y), B, T), I(xp, yp)) \n",
    "F3 = Implies(And(I(x, y), Not(B)), Q)\n",
    "\n",
    "check(F1, F2, F3)"
   ]
  },
  {
   "cell_type": "code",
   "execution_count": 149,
   "metadata": {},
   "outputs": [
    {
     "name": "stdout",
     "output_type": "stream",
     "text": [
      "unsat\n",
      "unsat\n",
      "unsat\n"
     ]
    }
   ],
   "source": [
    "\n",
    "# loop-lit/gj2007b.c\n",
    "#     int x = 0;\n",
    "#     int m = 0;\n",
    "#     int n = __VERIFIER_nondet_int();\n",
    "#     while(x < n) {\n",
    "# \tif(__VERIFIER_nondet_int()) {\n",
    "# \t    m = x;\n",
    "# \t}\n",
    "# \tx = x + 1;\n",
    "#     }\n",
    "#     __VERIFIER_assert((m >= 0 || n <= 0)); // m<0 -> n<=0\n",
    "#     __VERIFIER_assert((m < n || n <= 0)); // m>=n -> n<=0\n",
    "\n",
    "x = Int('x')\n",
    "m = Int('m')\n",
    "n = Int('n')\n",
    "xp = Int('xp')\n",
    "mp = Int('mp')\n",
    "\n",
    "P = And(x == 0, m == 0)\n",
    "Q = And(Or(m >= 0, n <= 0), Or(m < n, n <= 0))\n",
    "B = x < n\n",
    "T = Or(And(mp == x, xp == x), And(mp == m, xp == x+1))\n",
    "I = lambda x, m: Or(And(n<=0, m==0, x==0), And(n>0, m>=0, x>=0, n>m), And(m==0, x==0, n>m))\n",
    "    #And(Or(n > 0,  And(m == 0, x == 0)),Or(n <= 0, And(m >= 0, 0 <= x, n > m)))\n",
    "    # And(Implies(n<=0, And(m==0, x==0)), Implies(n>0, And(m>=0, m<=x, m<n)))\n",
    "\n",
    "F1 = Implies(P, I(x, m))\n",
    "F2 = Implies(And(I(x, m), B, T), I(xp, mp))\n",
    "F3 = Implies(And(I(x, m), Not(B)), Q)\n",
    "\n",
    "check(F1, F2, F3)"
   ]
  },
  {
   "cell_type": "code",
   "execution_count": 126,
   "metadata": {},
   "outputs": [],
   "source": [
    "# loop-lit/gr2006.c\n",
    "# FIXME: how to represent this in CHC?\n",
    "#     x = 0;\n",
    "#     y = 0;\n",
    "#     while (1) {\n",
    "#         if (x < 50) {\n",
    "#             y++;\n",
    "#         } else {\n",
    "#             y--;\n",
    "#         }\n",
    "#         if (y < 0) break;\n",
    "#         x++;\n",
    "#     }\n",
    "#     __VERIFIER_assert(x == 100);\n",
    "\n",
    "x = Int('x')\n",
    "y = Int('y')\n",
    "xp = Int('xp')\n",
    "yp = Int('yp')\n",
    "\n",
    "P = And(x == 0, y == 0)\n",
    "Q = x == 100"
   ]
  },
  {
   "cell_type": "code",
   "execution_count": 17,
   "metadata": {},
   "outputs": [
    {
     "name": "stdout",
     "output_type": "stream",
     "text": [
      "unsat\n",
      "unsat\n",
      "unsat\n"
     ]
    }
   ],
   "source": [
    "# loop-lit/hhk2008.c\n",
    "#     if (!(a <= 1000000)) return 0;\n",
    "#     if (!(0 <= b && b <= 1000000)) return 0;\n",
    "#     res = a;\n",
    "#     cnt = b;\n",
    "#     while (cnt > 0) {\n",
    "# \t    cnt = cnt - 1;\n",
    "# \t    res = res + 1;\n",
    "#     }\n",
    "#     __VERIFIER_assert(res == a + b);\n",
    "\n",
    "a = Int('a')\n",
    "b = Int('b')\n",
    "res = Int('res')\n",
    "cnt = Int('cnt')\n",
    "resp = Int('resp')\n",
    "cntp = Int('cntp')\n",
    "\n",
    "P = And(a <= 1000000, 0 <= b, b <= 1000000, res == a, cnt == b)\n",
    "Q = res == a+b\n",
    "B = cnt > 0\n",
    "T = And(cntp == cnt-1, resp == res+1)\n",
    "I = lambda cnt, res: And(res +cnt== a+b, cnt>=0)\n",
    "\n",
    "F1 = Implies(P, I(cnt, res))\n",
    "F2 = Implies(And(I(cnt, res), B, T), I(cntp, resp))\n",
    "F3 = Implies(And(I(cnt, res), Not(B)), Q)\n",
    "\n",
    "check(F1, F2, F3)"
   ]
  },
  {
   "cell_type": "code",
   "execution_count": null,
   "metadata": {},
   "outputs": [
    {
     "name": "stdout",
     "output_type": "stream",
     "text": [
      "unsat\n",
      "unsat\n",
      "unsat\n"
     ]
    }
   ],
   "source": [
    "# loop-lit/jm2006.c\n",
    "    # if (!(i >= 0 && j >= 0)) return 0;\n",
    "    # int x = i;\n",
    "    # int y = j;\n",
    "    # while(x != 0) {\n",
    "    #     x--;\n",
    "    #     y--;\n",
    "    # }\n",
    "\n",
    "    # if (i == j) {\n",
    "    #     __VERIFIER_assert(y == 0);\n",
    "    # }\n",
    "\n",
    "x = Int('x')\n",
    "y = Int('y')\n",
    "i = Int('i')\n",
    "j = Int('j')\n",
    "xp = Int('xp')\n",
    "yp = Int('yp')\n",
    "\n",
    "P = And(i >= 0, j >= 0, x == i, y == j)\n",
    "T = And(xp == x - 1, yp == y - 1)\n",
    "Q = Implies(i == j, y == 0)\n",
    "B = x != 0\n",
    "I = lambda x, y, i, j: And(i - x == j - y)\n",
    "# ((6*i + 0*j + -11*x + -2*y <= 603) /\\ (-7*i + -11*j + 3*x + 6*y <= -2)) cost ~ 1.8\n",
    "F1 = Implies(P, I(x,y,i,j))\n",
    "F2 = Implies(And(I(x,y,i,j), B, T), I(xp,yp,i,j)) \n",
    "F3 = Implies(And(I(x,y,i,j), Not(B)), Q)\n",
    "\n",
    "check(F1, F2, F3)"
   ]
  },
  {
   "cell_type": "code",
   "execution_count": 10,
   "metadata": {},
   "outputs": [
    {
     "name": "stdout",
     "output_type": "stream",
     "text": [
      "unsat\n",
      "unsat\n",
      "unsat\n"
     ]
    }
   ],
   "source": [
    "# loop-lit/jm2006_variant.c\n",
    "# if (!(i >= 0 && i <= LARGE_INT)) return 0;\n",
    "# if (!(j >= 0)) return 0;\n",
    "# int x = i;\n",
    "# int y = j;\n",
    "# int z = 0;\n",
    "# while(x != 0) {\n",
    "#     x --;\n",
    "#     y -= 2;\n",
    "#     z ++;\n",
    "# }\n",
    "# if (i == j) {\n",
    "#     __VERIFIER_assert(y == -z);\n",
    "# }\n",
    "\n",
    "i = Int('i')\n",
    "j = Int('j')\n",
    "x = Int('x')\n",
    "y = Int('y')\n",
    "z = Int('z')\n",
    "xp = Int('xp')\n",
    "yp = Int('yp')\n",
    "zp = Int('zp')\n",
    "\n",
    "P = And(i >= 0, i <= 100, j >= 0, x == i, y == j, z == 0)\n",
    "B = x != 0\n",
    "Q = Implies(i == j, y == -z)\n",
    "T = And(xp == x - 1, yp == y - 2, zp == z + 1)\n",
    "I = lambda x, y, z: And(y + z == j - (x - i))\n",
    "\n",
    "\n",
    "F1 = Implies(P, I(x,y,z))\n",
    "F2 = Implies(And(I(x,y,z), B, T), I(xp,yp,zp)) \n",
    "F3 = Implies(And(I(x,y,z), Not(B)), Q)\n",
    "\n",
    "check(F1, F2, F3)"
   ]
  }
 ],
 "metadata": {
  "kernelspec": {
   "display_name": "Python 3",
   "language": "python",
   "name": "python3"
  },
  "language_info": {
   "codemirror_mode": {
    "name": "ipython",
    "version": 3
   },
   "file_extension": ".py",
   "mimetype": "text/x-python",
   "name": "python",
   "nbconvert_exporter": "python",
   "pygments_lexer": "ipython3",
   "version": "3.10.12"
  },
  "orig_nbformat": 4
 },
 "nbformat": 4,
 "nbformat_minor": 2
}
